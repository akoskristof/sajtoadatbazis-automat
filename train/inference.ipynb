{
 "cells": [
  {
   "cell_type": "code",
   "execution_count": 16,
   "id": "75cbaa72-79fb-43f7-b4bd-9b98c50fc034",
   "metadata": {},
   "outputs": [],
   "source": [
    "from transformers import pipeline\n",
    "from nltk.stem import SnowballStemmer"
   ]
  },
  {
   "cell_type": "code",
   "execution_count": 9,
   "id": "59e7815d-891f-49df-9adc-6e00519ca1e9",
   "metadata": {},
   "outputs": [],
   "source": [
    "text = '''Szerdán folytatódott Boldog István volt fideszes országgyűlési képviselő és társai korrupciós ügyének tárgyalása. Tanúként hallgatták meg többek között a mindent, de mindent elfelejtő volt megyei közgyűlési alelnököt, Berec Zsoltot, és az ügy koronatanúját, Nagy Szilárdot, volt kengyeli fideszes polgármestert, aki egy vádalku keretében borította az ügyet 2019-ben a kecskeméti ügyészségen.\n",
    "\n",
    "A vád szerint a Boldog Istvánhoz köthető elkövetői kör hivatali helyzetével, befolyásával visszaélve befolyásolta a megyei Terület- és Településfejlesztési Operatív Program (TOP) pályázati eredményeit, majd elérték a kivitelezők irányított kiválasztását is, mindezekért pedig pénzt kaptak vissza a vállalkozóktól.\n",
    "\n",
    "Nagy Szilárd megismételte, amiket már korábban is elmondott arról a találkozóról, amikor Kétpón a városháza épületébe rendelték be a környékbeli települések polgármestereit, akikkel – miután le kellett adniuk a telefonjaikat – félórás váltásban beszélték át, mire pályázhatnak, és mire pályázzanak, hogy aztán nyerjenek is. Ahogy azt a találkozót is felelevenítette, amikor Boldoggal egy termálfürdő medencéjében kellett beszélni fürdőgatyában, ahol állítása szerint Boldog azt mondta neki, ha pénzre van szüksége, neki szóljon, ne kavarjon a háta mögött másokkal.\n",
    "\n",
    "Hadházy Ákos feljelentést tett.'''"
   ]
  },
  {
   "cell_type": "code",
   "execution_count": 11,
   "id": "84d4f9e3-ec81-4d32-a328-851614ba8c52",
   "metadata": {},
   "outputs": [
    {
     "name": "stderr",
     "output_type": "stream",
     "text": [
      "Asking to truncate to max_length but no maximum length is provided and the model has no predefined maximum length. Default to no truncation.\n"
     ]
    }
   ],
   "source": [
    "classifier = pipeline(\"ner\", model=\"boapps/kmdb_ner_model\", aggregation_strategy=\"average\")\n",
    "classifications = classifier(text)"
   ]
  },
  {
   "cell_type": "code",
   "execution_count": 17,
   "id": "dfdee511-1ad4-485e-b225-b726531c6ddc",
   "metadata": {},
   "outputs": [],
   "source": [
    "stemmer = SnowballStemmer(\"hungarian\")"
   ]
  },
  {
   "cell_type": "code",
   "execution_count": 20,
   "id": "fc9e4695-0ef4-4ff1-a4c9-705c2f23fbf3",
   "metadata": {},
   "outputs": [
    {
     "data": {
      "text/plain": [
       "'orb'"
      ]
     },
     "execution_count": 20,
     "metadata": {},
     "output_type": "execute_result"
    }
   ],
   "source": [
    "stemmer.stem('Orbánnal')"
   ]
  },
  {
   "cell_type": "code",
   "execution_count": 21,
   "id": "f3947658-146c-4e94-952f-032f8bdcac4b",
   "metadata": {},
   "outputs": [
    {
     "data": {
      "text/plain": [
       "'fidesz'"
      ]
     },
     "execution_count": 21,
     "metadata": {},
     "output_type": "execute_result"
    }
   ],
   "source": [
    "stemmer.stem('Fidesszel')"
   ]
  },
  {
   "cell_type": "code",
   "execution_count": 24,
   "id": "78b3f9e8-f245-44fa-a857-efb69f0036a3",
   "metadata": {},
   "outputs": [
    {
     "data": {
      "text/plain": [
       "[('POS-PER', 0.9687081, 'Boldog István', 'boldog istv'),\n",
       " ('POS-PER', 0.5295496, 'Berec Zsoltot', 'berec zsolt'),\n",
       " ('POS-PER', 0.47416645, 'Nagy Szilárdot', 'nagy szilár'),\n",
       " ('POS-PER', 0.777254, 'Boldog Istvánhoz', 'boldog istv'),\n",
       " ('POS-PER', 0.672423, 'Nagy Szilárd', 'nagy szilár'),\n",
       " ('NEG-LOC', 0.46104413, 'Kétpón', 'kétpó'),\n",
       " ('POS-PER', 0.4650088, 'Boldoggal', 'boldog'),\n",
       " ('POS-PER', 0.94062465, 'Boldog', 'boldog'),\n",
       " ('NEG-PER', 0.71302986, 'Hadházy Ákos', 'hadházy ákos')]"
      ]
     },
     "execution_count": 24,
     "metadata": {},
     "output_type": "execute_result"
    }
   ],
   "source": [
    "[(e['entity_group'], e['score'], text[e['start']:e['end']], stemmer.stem(text[e['start']:e['end']])) for e in classifications]"
   ]
  }
 ],
 "metadata": {
  "kernelspec": {
   "display_name": "Python 3 (ipykernel)",
   "language": "python",
   "name": "python3"
  },
  "language_info": {
   "codemirror_mode": {
    "name": "ipython",
    "version": 3
   },
   "file_extension": ".py",
   "mimetype": "text/x-python",
   "name": "python",
   "nbconvert_exporter": "python",
   "pygments_lexer": "ipython3",
   "version": "3.10.10"
  }
 },
 "nbformat": 4,
 "nbformat_minor": 5
}
