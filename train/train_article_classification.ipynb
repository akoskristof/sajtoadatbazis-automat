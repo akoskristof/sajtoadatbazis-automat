{
  "cells": [
    {
      "cell_type": "markdown",
      "id": "8_X5sSGLeDwn",
      "metadata": {
        "id": "8_X5sSGLeDwn"
      },
      "source": [
        "## imports"
      ]
    },
    {
      "cell_type": "code",
      "execution_count": null,
      "id": "BoDsMc8rgrtl",
      "metadata": {
        "id": "BoDsMc8rgrtl"
      },
      "outputs": [],
      "source": [
        "!pip install -q datasets transformers peft"
      ]
    },
    {
      "cell_type": "code",
      "execution_count": null,
      "id": "IPV_VEkgeDBX",
      "metadata": {
        "id": "IPV_VEkgeDBX"
      },
      "outputs": [],
      "source": [
        "from datasets import load_dataset\n",
        "from transformers import BertForSequenceClassification, BertTokenizer\n",
        "from transformers import Trainer, TrainingArguments, pipeline\n",
        "from huggingface_hub import notebook_login\n",
        "from peft import LoraConfig, TaskType, get_peft_model\n",
        "from sklearn.metrics import accuracy_score, precision_recall_fscore_support\n",
        "from sklearn.metrics import precision_recall_curve, auc\n",
        "import matplotlib.pyplot as plt\n",
        "import torch"
      ]
    },
    {
      "cell_type": "markdown",
      "id": "A44yE8ehd2OY",
      "metadata": {
        "id": "A44yE8ehd2OY"
      },
      "source": [
        "## prepare dataset"
      ]
    },
    {
      "cell_type": "code",
      "execution_count": null,
      "id": "7a5c3dd0-6f6d-4b44-8f11-2c8ba5fd2d9a",
      "metadata": {
        "id": "7a5c3dd0-6f6d-4b44-8f11-2c8ba5fd2d9a"
      },
      "outputs": [],
      "source": [
        "dataset = load_dataset(\"K-Monitor/kmdb_classification\")"
      ]
    },
    {
      "cell_type": "code",
      "execution_count": null,
      "id": "6uD54DdYZIDn",
      "metadata": {
        "id": "6uD54DdYZIDn"
      },
      "outputs": [],
      "source": [
        "dataset = dataset.filter(lambda row: row['title'] and row['description'])"
      ]
    },
    {
      "cell_type": "code",
      "execution_count": null,
      "id": "Aj-qbhMyZSkz",
      "metadata": {
        "id": "Aj-qbhMyZSkz"
      },
      "outputs": [],
      "source": [
        "dataset"
      ]
    },
    {
      "cell_type": "code",
      "execution_count": null,
      "id": "ea8d2a23-cff1-4151-be09-3947f1f94a64",
      "metadata": {
        "id": "ea8d2a23-cff1-4151-be09-3947f1f94a64"
      },
      "outputs": [],
      "source": [
        "dataset = dataset.map(lambda row: {'td': row['title']+'\\n'+row['description']})\n",
        "# dataset = dataset.map(lambda row: {'td': row['title']+'\\n'+row['description']+'\\n'+'\\n'.join(row['text'].split('\\n')[:10])})"
      ]
    },
    {
      "cell_type": "code",
      "execution_count": null,
      "id": "70lwnQdlfHjD",
      "metadata": {
        "id": "70lwnQdlfHjD"
      },
      "outputs": [],
      "source": [
        "dataset = dataset.shuffle(seed=42)\n",
        "split = dataset['train'].train_test_split(test_size=0.2, seed=42,)\n",
        "dataset = split['test'].train_test_split(test_size=0.5, seed=42,)\n",
        "dataset['validation'] = dataset['train']\n",
        "dataset['train'] = split['train']\n",
        "dataset"
      ]
    },
    {
      "cell_type": "code",
      "execution_count": null,
      "id": "3tPnBxCZfDsN",
      "metadata": {
        "id": "3tPnBxCZfDsN"
      },
      "outputs": [],
      "source": [
        "tokenizer = BertTokenizer.from_pretrained('SZTAKI-HLT/hubert-base-cc')"
      ]
    },
    {
      "cell_type": "code",
      "execution_count": null,
      "id": "cc327683-9d0e-454a-832c-5450ec3150ba",
      "metadata": {
        "id": "cc327683-9d0e-454a-832c-5450ec3150ba"
      },
      "outputs": [],
      "source": [
        "def tokenize_function(examples):\n",
        "    return tokenizer(examples[\"td\"], padding=\"max_length\", truncation=True, max_length=512)\n",
        "\n",
        "tokenized_datasets = dataset.map(tokenize_function, batched=True)"
      ]
    },
    {
      "cell_type": "markdown",
      "id": "DdIGCLohd8G8",
      "metadata": {
        "id": "DdIGCLohd8G8"
      },
      "source": [
        "## load model"
      ]
    },
    {
      "cell_type": "code",
      "execution_count": null,
      "id": "cb3f76b0-858f-4ca3-9668-906f57c88426",
      "metadata": {
        "id": "cb3f76b0-858f-4ca3-9668-906f57c88426"
      },
      "outputs": [],
      "source": [
        "model = BertForSequenceClassification.from_pretrained(\n",
        "    'SZTAKI-HLT/hubert-base-cc',\n",
        "    num_labels=2\n",
        ")"
      ]
    },
    {
      "cell_type": "code",
      "execution_count": null,
      "id": "edd30016-64fb-4865-903e-20c0592e2dee",
      "metadata": {
        "id": "edd30016-64fb-4865-903e-20c0592e2dee"
      },
      "outputs": [],
      "source": [
        "lora_config = LoraConfig(\n",
        "    task_type=TaskType.SEQ_CLS,\n",
        "    inference_mode=True,\n",
        "    r=128,\n",
        "    lora_alpha=128,\n",
        "    lora_dropout=0.05,\n",
        "    use_rslora=True,\n",
        "    use_dora=True,\n",
        "    bias=\"all\",\n",
        "    target_modules=[\"query\", \"key\", \"value\",],\n",
        "    modules_to_save=[\"classifier\"],\n",
        ")"
      ]
    },
    {
      "cell_type": "code",
      "execution_count": null,
      "id": "f510c1d9-9145-4642-bb3a-0d4533528231",
      "metadata": {
        "id": "f510c1d9-9145-4642-bb3a-0d4533528231"
      },
      "outputs": [],
      "source": [
        "model = get_peft_model(model, lora_config)\n",
        "model.print_trainable_parameters()"
      ]
    },
    {
      "cell_type": "markdown",
      "id": "oOAvq-aZfRZT",
      "metadata": {
        "id": "oOAvq-aZfRZT"
      },
      "source": [
        "## train"
      ]
    },
    {
      "cell_type": "code",
      "execution_count": null,
      "id": "bd5b8248-f290-4638-9df5-da3c1f78ac3c",
      "metadata": {
        "id": "bd5b8248-f290-4638-9df5-da3c1f78ac3c"
      },
      "outputs": [],
      "source": [
        "def compute_metrics(pred):\n",
        "    labels = pred.label_ids\n",
        "    preds = pred.predictions.argmax(-1)\n",
        "    precision, recall, _, _ = precision_recall_fscore_support(labels, preds, average='binary')\n",
        "    acc = accuracy_score(labels, preds)\n",
        "    return {\n",
        "        'accuracy': acc,\n",
        "        'precision': precision,\n",
        "        'recall': recall\n",
        "    }"
      ]
    },
    {
      "cell_type": "code",
      "execution_count": null,
      "id": "bbb1997c-df1e-446a-a5ab-c5d63ecf202d",
      "metadata": {
        "id": "bbb1997c-df1e-446a-a5ab-c5d63ecf202d"
      },
      "outputs": [],
      "source": [
        "batch_size=32\n",
        "\n",
        "training_args = TrainingArguments(\n",
        "    output_dir=\"hubert-classification\",\n",
        "    per_device_train_batch_size=batch_size,\n",
        "    per_device_eval_batch_size=batch_size,\n",
        "    gradient_accumulation_steps=8,\n",
        "    weight_decay=0.01,\n",
        "    load_best_model_at_end=True,\n",
        "    logging_steps=2,\n",
        "    eval_steps=40,\n",
        "    logging_steps=10,\n",
        "    save_steps=40,\n",
        "    save_total_limit=40,\n",
        "    save_strategy='steps',\n",
        "    evaluation_strategy='steps',\n",
        "    learning_rate=3e-4,\n",
        "    warmup_steps=40,\n",
        "    num_train_epochs=2,\n",
        ")\n",
        "\n",
        "trainer = Trainer(\n",
        "    model=model,\n",
        "    train_dataset=tokenized_datasets['train'],\n",
        "    eval_dataset=tokenized_datasets['validation'],\n",
        "    args=training_args,\n",
        "    compute_metrics=compute_metrics,\n",
        ")"
      ]
    },
    {
      "cell_type": "code",
      "execution_count": null,
      "id": "c9f61dfe-c507-461f-9160-bd1a5febf53f",
      "metadata": {
        "id": "c9f61dfe-c507-461f-9160-bd1a5febf53f"
      },
      "outputs": [],
      "source": [
        "trainer.train()"
      ]
    },
    {
      "cell_type": "markdown",
      "id": "NQnpN6H_eygI",
      "metadata": {
        "id": "NQnpN6H_eygI"
      },
      "source": [
        "## evaluate"
      ]
    },
    {
      "cell_type": "code",
      "execution_count": null,
      "id": "8d362d4d-7b36-47a3-afa9-211bbd8cf1cc",
      "metadata": {
        "id": "8d362d4d-7b36-47a3-afa9-211bbd8cf1cc"
      },
      "outputs": [],
      "source": [
        "trainer.evaluate(eval_dataset=tokenized_datasets['test'])"
      ]
    },
    {
      "cell_type": "code",
      "execution_count": null,
      "id": "0QuJ8kkHfYOH",
      "metadata": {
        "id": "0QuJ8kkHfYOH"
      },
      "outputs": [],
      "source": [
        "merged = model.merge_and_unload()"
      ]
    },
    {
      "cell_type": "code",
      "execution_count": null,
      "id": "v-clRudIfl_m",
      "metadata": {
        "id": "v-clRudIfl_m"
      },
      "outputs": [],
      "source": [
        "classifier = pipeline(\"sentiment-analysis\", model=merged, tokenizer=tokenizer, return_all_scores=True, max_length=512)\n",
        "classifier('hello')"
      ]
    },
    {
      "cell_type": "code",
      "execution_count": null,
      "id": "2XGU1TUgfqsW",
      "metadata": {
        "id": "2XGU1TUgfqsW"
      },
      "outputs": [],
      "source": [
        "dataset['test'] = dataset['test'].map(lambda row: {'score': classifier(row['td'])[0][1]['score']})"
      ]
    },
    {
      "cell_type": "code",
      "execution_count": null,
      "id": "IuWNUkMAfuuf",
      "metadata": {
        "id": "IuWNUkMAfuuf"
      },
      "outputs": [],
      "source": [
        "precision, recall, thresholds = precision_recall_curve(dataset['test']['label'], dataset['test']['score'])"
      ]
    },
    {
      "cell_type": "code",
      "execution_count": null,
      "id": "uIMfkzbWfvOk",
      "metadata": {
        "id": "uIMfkzbWfvOk"
      },
      "outputs": [],
      "source": [
        "aupr = auc(recall, precision)\n",
        "\n",
        "plt.figure()\n",
        "plt.plot(recall, precision, marker='.', label=f'AUPR = {aupr:.2f}')\n",
        "plt.xlabel('Recall')\n",
        "plt.ylabel('Precision')\n",
        "plt.title('Precision-Recall Curve')\n",
        "plt.legend()\n",
        "plt.show()"
      ]
    },
    {
      "cell_type": "code",
      "execution_count": null,
      "id": "tLdMW3Skfz2h",
      "metadata": {
        "id": "tLdMW3Skfz2h"
      },
      "outputs": [],
      "source": [
        "aupr\n",
        "# 0.9843052286062822\n",
        "# 0.946710389734783\n",
        "# 0.9865083235548402"
      ]
    },
    {
      "cell_type": "markdown",
      "id": "aeotXOtKgEzc",
      "metadata": {
        "id": "aeotXOtKgEzc"
      },
      "source": [
        "## eval old"
      ]
    },
    {
      "cell_type": "code",
      "execution_count": null,
      "id": "5b606b85",
      "metadata": {
        "id": "5b606b85"
      },
      "outputs": [],
      "source": [
        "merged = BertForSequenceClassification.from_pretrained('boapps/kmdb_classification_model')\n",
        "tokenizer = BertTokenizer.from_pretrained('SZTAKI-HLT/hubert-base-cc')"
      ]
    },
    {
      "cell_type": "code",
      "execution_count": null,
      "id": "aa0fb429-cd6c-47a6-bd9e-99430fcf90d0",
      "metadata": {
        "id": "aa0fb429-cd6c-47a6-bd9e-99430fcf90d0"
      },
      "outputs": [],
      "source": [
        "classifier = pipeline(\"sentiment-analysis\", model=merged, tokenizer=tokenizer, return_all_scores=True, max_length=512)\n",
        "classifier('hello')"
      ]
    },
    {
      "cell_type": "code",
      "execution_count": null,
      "id": "19145da6-a6e9-4a00-a9f0-753fbadb6011",
      "metadata": {
        "id": "19145da6-a6e9-4a00-a9f0-753fbadb6011"
      },
      "outputs": [],
      "source": [
        "dataset['test'] = dataset['test'].map(lambda row: {'score': classifier(row['td'])[0][1]['score']})"
      ]
    },
    {
      "cell_type": "code",
      "execution_count": null,
      "id": "iYj_Wi0VgehI",
      "metadata": {
        "id": "iYj_Wi0VgehI"
      },
      "outputs": [],
      "source": [
        "precision, recall, thresholds = precision_recall_curve(dataset['test']['label'], dataset['test']['score'])"
      ]
    },
    {
      "cell_type": "code",
      "execution_count": null,
      "id": "ouaL3WiYgfH-",
      "metadata": {
        "id": "ouaL3WiYgfH-"
      },
      "outputs": [],
      "source": [
        "aupr = auc(recall, precision)\n",
        "\n",
        "plt.figure()\n",
        "plt.plot(recall, precision, marker='.', label=f'AUPR = {aupr:.2f}')\n",
        "plt.xlabel('Recall')\n",
        "plt.ylabel('Precision')\n",
        "plt.title('Precision-Recall Curve')\n",
        "plt.legend()\n",
        "plt.show()"
      ]
    },
    {
      "cell_type": "code",
      "execution_count": null,
      "id": "yssgxQujghIU",
      "metadata": {
        "id": "yssgxQujghIU"
      },
      "outputs": [],
      "source": [
        "aupr\n",
        "# 0.9843052286062822\n",
        "# 0.946710389734783\n",
        "# 0.9865083235548402\n",
        "# 0.9397254130747401"
      ]
    },
    {
      "cell_type": "markdown",
      "id": "PuS16rRwgXTz",
      "metadata": {
        "id": "PuS16rRwgXTz"
      },
      "source": [
        "## upload"
      ]
    },
    {
      "cell_type": "code",
      "execution_count": null,
      "id": "0e2698dc",
      "metadata": {
        "id": "0e2698dc"
      },
      "outputs": [],
      "source": [
        "notebook_login()"
      ]
    },
    {
      "cell_type": "code",
      "execution_count": null,
      "id": "fcf3ea39-9ca3-4583-b36b-a5240d3c6496",
      "metadata": {
        "id": "fcf3ea39-9ca3-4583-b36b-a5240d3c6496"
      },
      "outputs": [],
      "source": [
        "merged.push_to_hub('K-Monitor/kmdb_classification_hubert')"
      ]
    }
  ],
  "metadata": {
    "accelerator": "GPU",
    "colab": {
      "collapsed_sections": [
        "8_X5sSGLeDwn",
        "A44yE8ehd2OY",
        "DdIGCLohd8G8",
        "NQnpN6H_eygI",
        "aeotXOtKgEzc"
      ],
      "gpuType": "T4",
      "provenance": []
    },
    "kernelspec": {
      "display_name": "Python 3",
      "name": "python3"
    },
    "language_info": {
      "codemirror_mode": {
        "name": "ipython",
        "version": 3
      },
      "file_extension": ".py",
      "mimetype": "text/x-python",
      "name": "python",
      "nbconvert_exporter": "python",
      "pygments_lexer": "ipython3",
      "version": "3.11.9"
    }
  },
  "nbformat": 4,
  "nbformat_minor": 5
}