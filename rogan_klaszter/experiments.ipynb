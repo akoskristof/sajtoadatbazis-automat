{
 "cells": [
  {
   "cell_type": "code",
   "execution_count": 1,
   "metadata": {},
   "outputs": [
    {
     "name": "stderr",
     "output_type": "stream",
     "text": [
      "/home/boa/rogan_cluster/.venv/lib/python3.9/site-packages/tqdm/auto.py:21: TqdmWarning: IProgress not found. Please update jupyter and ipywidgets. See https://ipywidgets.readthedocs.io/en/stable/user_install.html\n",
      "  from .autonotebook import tqdm as notebook_tqdm\n"
     ]
    }
   ],
   "source": [
    "from datasets import load_dataset\n",
    "from sentence_transformers import SentenceTransformer\n",
    "from bertopic import BERTopic\n",
    "from sklearn.feature_extraction.text import CountVectorizer\n",
    "import spacy\n"
   ]
  },
  {
   "cell_type": "code",
   "execution_count": 2,
   "metadata": {},
   "outputs": [],
   "source": [
    "ds = load_dataset(\"K-Monitor/kmdb_base\")"
   ]
  },
  {
   "cell_type": "code",
   "execution_count": 3,
   "metadata": {},
   "outputs": [
    {
     "data": {
      "text/plain": [
       "'Összesen bruttó 30 milliárd forint értékben javíthat, korszerűsíthet mozdonyokat a MÁV-Start megbízásából a Magyar Vagon Vasúti Járműgyártó, Javító és Karbantartó Kft. - derül ki az uniós közbeszerzési értesítő, a TED pénteki számából.A dokumentum alapján a megrendelő MÁV-cég tavaly decemberben kétrészes keretszerződést kötött a kivitelezővel: bruttó 27,4 milliárd értékben rendelték meg villamos mozdonyok nagyjavítását, korszerűsítését, forgóváz-cseréjét, a dízelmozdonyok esetében pedig bruttó 2,7 milliárd forintot fizetnek a nagygenerálért. Mivel a MÁV-Start csak a megbízási érték 77 százalékára vállalt lehívási kötelezettséget (tehát ennyit biztosan ki kell fizessenek a teljesített munkáért), a végösszeg talán megáll bruttó 23, 2 milliárd forintnál.A MÁV két évet adott a munkák befejezésére, vagyis a kivitelezőnek 2026 decemberéig át kell adnia a kipofozott járműveket. A szerződéskötés tartama érdekes módon rímel Lázár János építési és közlekedési miniszter szerdán ismertetett tízpontos javaslatcsomagjára is, melynek ötödik pontja szerint felújítják a MÁV zömében elavult, 40-60 éves villanymozdonyait, és 2026 nyaráig minden második mozdonyt korszerűsítenek.A NER-nek nő nagyraLázár János: 20 perces késéstől visszadjuk a jegyár felét, az összes mosdót felújítjukTízpontos ígéretet tett a miniszter: az összes MÁV- és Volán-mosdót teljesen felújítják. Minden Intercity-járaton takarítószemélyzet lesz. Új járműveket vásárolnak, buszokat állítanak a vonat mellé, a GySEV-nek adnak át vonalakat, jön egy új app.A szolnoki székhelyű Magyar Vagon Magyar Vagon Vasúti Járműgyártó, Javító és Karbantartó Kft. korábban a MÁV leánya, azaz állami cég volt, 2024 májusától a cég kikerült a MÁV-Volán-csoport többségi tulajdonából és 2024 júliusától Magyar Vagon Vasúti Járműgyártó, Javító és Karbantartó Kft. néven folytatja tevékenységét - olvasható a honlapjukon.A járműjavító új közvetett többségi tulajdonosa, a Magyar Vagon Befektetési Vagyonkezelői Zrt., amely mindig is közel állt a NER-hez: a céget még 2019-ben Szalay-Bobrovniczky Kristóf jelenlegi honvédelmi miniszter alapította, kormányzati kinevezése után azonban kiszállt a vállalkozásból, a céget pedig a Solva II. Magántőkealap vette át. Utóbbi tulajdonosi köre nem ismert (az ilyen tőkealapok célja gyakran a végső tulajdonosi kör titokban tartása), azonban árulkodó lehet, hogy a Solva II-t egy ideig a Hernádi Zsolt Mol-vezérhez köthető Gran Private Equity Zrt. alapkezelő kezelte, majd a Mol-lányvállalat Lead Ventures vette át.A Magyar Vagon Befektetési Vagyonkezelői Zrt. része annak a kormányzati háttérrel összerakott működő Magyar Vagon-csoportnak, amely több mint ezer vasúti kocsit gyártását vállalta Egyiptom felé - és amely sikertelenül próbálta felvásárolni a spanyol Talgo vasúti járműgyártó vállalatot. Utóbbi cégfelvásárlást maga a spanyol kormány akadályozta meg, nemzetbiztonsági okokra hivatkozva.'"
      ]
     },
     "execution_count": 3,
     "metadata": {},
     "output_type": "execute_result"
    }
   ],
   "source": [
    "ds['train'][-1]['text']"
   ]
  },
  {
   "cell_type": "code",
   "execution_count": 4,
   "metadata": {},
   "outputs": [],
   "source": [
    "dsf = ds.filter(lambda article: 'Rogán Antal' in article['persons'])"
   ]
  },
  {
   "cell_type": "code",
   "execution_count": 5,
   "metadata": {},
   "outputs": [
    {
     "data": {
      "text/plain": [
       "DatasetDict({\n",
       "    train: Dataset({\n",
       "        features: ['news_id', 'title', 'description', 'text', 'source_url', 'archive_url', 'kmdb_url', 'newspaper', 'category', 'pub_time', 'persons', 'institutions', 'places', 'others', 'files'],\n",
       "        num_rows: 1091\n",
       "    })\n",
       "})"
      ]
     },
     "execution_count": 5,
     "metadata": {},
     "output_type": "execute_result"
    }
   ],
   "source": [
    "dsf"
   ]
  },
  {
   "cell_type": "code",
   "execution_count": 6,
   "metadata": {},
   "outputs": [],
   "source": [
    "texts = [\n",
    "    f\"{row['title']}\\n{row['description']}\\n\\n{row['text']}\" \n",
    "    for row in dsf['train']\n",
    "]"
   ]
  },
  {
   "cell_type": "code",
   "execution_count": 7,
   "metadata": {},
   "outputs": [
    {
     "name": "stdout",
     "output_type": "stream",
     "text": [
      "KÓDOLVA VOLTAK A HIBÁK ROGÁN ÖNKORMÁNYZATÁBAN - ÍRJA A 2013-AS JELENTÉS\n",
      "Komoly döntési kockázatokkal működött az V. kerületi önkormányzat Rogán Antal polgármestersége idején. Ez egy olyan vizsgálati jelentésből derült ki, amelyet Rogán rendelt meg az után, hogy a kerület ingatlant adott el Portik Tamás élettársának. A jelentés azt kifogásolta, hogy az előterjesztések nem térnek ki minden részletre, így olyan döntések is megszülethetnek, amelyeket egyébként nem biztos, hogy meghoznának.\n",
      "\n",
      "Komoly döntési kockázatokkal működött az V. kerületi önkormányzat Rogán Antal polgármestersége idején. Ez egy olyan vizsgálati jelentésből derült ki, amelyet Rogán rendelt meg az után, hogy a kerület ingatlant adott el Portik Tamás élettársának. A jelentés azt kifogásolta, hogy az előterjesztések nem térnek ki minden részletre, így olyan döntések is megszülethetnek, amelyeket egyébként nem biztos, hogy meghoznának.\n",
      "Nyilvánosságra hozta az MSZP azt a hatoldalas jelentést, amelyet Steiner Pál, az V. kerületi pénzügyi bizottságának szocialista elnöke kapott csütörtökön Rogán Antal korábbi fideszes polgármestertől. A jelentés annak az ingatlannak az eladásáról szól, amelyet a belvárosi önkormányzat még 2011-ben értekesített Portik Tamás élettársának. Bár a vizsgálati anyagban a vevő neve nem szerepel, az ügy részletei alapján azonban egyértelmű, hogy erről az üzletről van szó.\n",
      "Az üzletről szombaton számolt be a Blikk. Az önkormányzat pénzügyi bizottsága egyebek között erre hivatkozva döntött úgy, hogy megvizsgálja a Belváros ingatlanértékesítési gyakorlatát. A csütörtöki ülésre Rogán Antal nem ment el, az önkormányzat jegyzője, Sélley Zoltán a bizottságnak egy jelentést adott át, amelyet Rogán magánemberként készíttetett egy egyetemi oktatóval. Ennek részletei azonban akkor nem derültek ki, mert zárt ülést rendeltek el.\n",
      "Szigorúan bizalmas jelentés\n",
      "A jogi vélemény elkészítésére Rogán adott megbízást még tavaly márciusban. A jelentés anonimizált, nemcsak készítőjének nevét, hanem az ügyben érintett valamennyi cég és személy nevét kitakarták az iratból. Az első oldalon az olvasható, hogy a „vélemény jellege: szigorúan bizalmas”, kizárólag Rogán számára készült.\n",
      "A Károly körút 26. szám alatti, 212 négyzetméteres ingatlan korábbi használójával a bérleti jogviszony 2008 márciusában szűnt meg. A bérlő a helyiséget többszöri felszólításra sem adta át, ezért az önkormányzat kiürítési pert kezdeményezett, amelyet meg is nyert. Az ügy elhúzodott, 2011 májusában vették vissza az ingatlant, amelyet ezután újra bérbe akartak adni. Az önkormányzathoz 2011 augusztusáig öt bérleti kérelem érkezett.\n",
      "Az önkormányzat tulajdonosi és elidegenítési bizottsága 2011. szeptember 6-án hozzájárult a bérbeadáshoz. A bérlő nevét kitakarták az irtaból, valószínűleg a Portik Tamás élettársának érdekeltségébe tartozó Classic Immo Kft.-ről van szó. A bizottság döntése után, 2011. szeptember 20-án született meg az ügyben a polgármesteri döntés. Ezt Rogán Antal általános helyettese, Puskás András írta alá, aki jogosult volt ilyen ügyekben eljárni. A jelentés szerint Rogánnál nem fordult meg semmilyen, a bérbeadással kapcsolatos irat.\n",
      "Az önkormányzat képviselő-testülete 2011. november 10-én úgy döntött, hogy el is adja az ingatlant. Az ingatlant a Classic Immo vásárolta meg, bérlőként ugyanis elővásárlási joga volt. Az eladást az önkormányzat vagyonkezelője készítette elő.\n",
      "Az elidegenítés elsődleges indoka nem a bérlő ez irányú vételi szándékán alapult, hanem a 2011. évi költségvetési bevételek okozta szükséglet\n",
      "– olvasható a jelentésben. A dokumentum szerint ezt illett volna jelezni külön a képviselőtestületnek is.\n",
      "Az eladás előtt értékbecslés készült 2011. november 4-én, ez az ingatlan forgalmi értékét 74 millió 890 ezer forintban határozta meg (az értékbecslés készítőjének a nevét szintén kitakarták). A bérlő egy 2007-es kerületi rendelet szerint kedvezményre volt jogosult, így 52 423 280 forintért jutott az ingatlanhoz. Az adásvételi szerződést 2011. december 2-án írták alá.\n",
      "Komoly döntési kockázat\n",
      "A jelentés összegzése szerint a döntési folyamat során nem állapítható meg jogsértés. A dokumentum készítője azonban azt javasolta Rogánnak, hogy dolgozzon ki olyan jogszabályokat, amelyek tájékoztató kötelezettséget írnának elő a jegyző számára a polgármester felé. Például ha az előterjesztések készítésére írnának elő kötelező szabályokat.\n",
      "„A jelen ügy rávilágít arra, hogy az előzmények nincsenek bemutatva az egyes előterjesztésekben, így arról a döntéshozók, így a polgármester sem kap teljes képet” – olvasható a vizsgálati anyagban. A szöveg arra figyelmeztet: az előterjesztés nem tért ki arra sem, hogy a döntés hordoz-e jogi vagy gazdasági kockázatot. Az előterjesztést ezért a jegyzőnek ki kellett volna egészítenie az ügylet előzményeiről szóló információkkal.\n",
      "Komoly döntési kockázatot rejt így magában a rendszer, mert ha Polgármesteri Hivatal vezetése továbbra sem osztja meg a döntéshozókkal az előzményi döntéseket, az előterjesztés nem tér ki a részletekre, úgy félő, hogy úgy hoznak meg a döntéseket, hogy a teljes információ birtokában arra egyebekben nem kerülne sor.\n",
      "– olvasható az anyagban.\n",
      "Ezért javasolja a dokumentum annak megfontolását, hogy az előterjesztések ne csak a korábbi információkat tartalmazzák, hanem a jövőben térjenek ki a döntés esetleges jogi, pénzügyi kockázataira. Az irat megjegyzi: a vizsgált ügyben a jegyző rendelkezett minden információval, azokat mégsem osztotta meg a polgármesterrel, illetve a képviselő-testülettel. Az V. kerületi önkormányzat már a múlt héten közölte: az ügy miatt már korábban felmentették az akkori jegyzőt, Rónaszéki Lászlót.\n",
      "Pénteken megkerestük az V. kerületet, arra voltunk kiváncsiak, hogy a jelentésben megfogalmazott javaslatokat megfogadta-e a kerület vezetése, milyen jogszabályokat hoztak erre hivatkozva. Amint megérkezik a kerület válasza, közölni fogjuk.\n"
     ]
    }
   ],
   "source": [
    "print(texts[110])"
   ]
  },
  {
   "cell_type": "code",
   "execution_count": null,
   "metadata": {},
   "outputs": [],
   "source": [
    "nlp = spacy.load(\"hu_core_news_md\")\n",
    "nlp.max_length = 10000000"
   ]
  },
  {
   "cell_type": "code",
   "execution_count": 9,
   "metadata": {},
   "outputs": [
    {
     "name": "stdout",
     "output_type": "stream",
     "text": [
      "Írtam ír\n",
      "egy egy\n",
      "kisebb kis\n",
      "szöveget szöveg\n",
      ". .\n"
     ]
    }
   ],
   "source": [
    "for word in nlp(\"Írtam egy kisebb szöveget.\"):\n",
    "    print(word.text, word.lemma_)\n",
    "\n"
   ]
  },
  {
   "cell_type": "code",
   "execution_count": null,
   "metadata": {},
   "outputs": [],
   "source": []
  },
  {
   "cell_type": "code",
   "execution_count": 10,
   "metadata": {},
   "outputs": [],
   "source": [
    "# Step 1: Load and preprocess the text\n",
    "def preprocess_text(text):\n",
    "    # Ensure all Hungarian characters are preserved\n",
    "    return text\n",
    "\n",
    "texts = [preprocess_text(text) for text in texts]"
   ]
  },
  {
   "cell_type": "code",
   "execution_count": 11,
   "metadata": {},
   "outputs": [
    {
     "name": "stderr",
     "output_type": "stream",
     "text": [
      "Batches: 100%|██████████| 35/35 [00:05<00:00,  6.36it/s]\n"
     ]
    }
   ],
   "source": [
    "model_name = \"sentence-transformers/paraphrase-multilingual-mpnet-base-v2\"  # A lightweight and efficient SentenceBERT model\n",
    "embedder = SentenceTransformer(model_name)\n",
    "embeddings = embedder.encode(texts, show_progress_bar=True)"
   ]
  },
  {
   "cell_type": "code",
   "execution_count": 12,
   "metadata": {},
   "outputs": [],
   "source": [
    "from umap import UMAP\n",
    "\n",
    "umap_model = UMAP(n_neighbors=15, n_components=5, min_dist=0.0, metric='cosine', random_state=42)\n"
   ]
  },
  {
   "cell_type": "code",
   "execution_count": 13,
   "metadata": {},
   "outputs": [],
   "source": [
    "from hdbscan import HDBSCAN\n",
    "\n",
    "hdbscan_model = HDBSCAN(min_cluster_size=10, metric='euclidean', cluster_selection_method='eom', prediction_data=True)\n"
   ]
  },
  {
   "cell_type": "code",
   "execution_count": 14,
   "metadata": {},
   "outputs": [],
   "source": [
    "from bertopic.representation import KeyBERTInspired, MaximalMarginalRelevance, OpenAI, PartOfSpeech\n"
   ]
  },
  {
   "cell_type": "code",
   "execution_count": 15,
   "metadata": {},
   "outputs": [],
   "source": [
    "keybert_model = KeyBERTInspired()\n"
   ]
  },
  {
   "cell_type": "code",
   "execution_count": 16,
   "metadata": {},
   "outputs": [],
   "source": [
    "mmr_model = MaximalMarginalRelevance(diversity=0.3)\n"
   ]
  },
  {
   "cell_type": "code",
   "execution_count": null,
   "metadata": {},
   "outputs": [
    {
     "ename": "",
     "evalue": "",
     "output_type": "error",
     "traceback": [
      "\u001b[1;31mThe Kernel crashed while executing code in the current cell or a previous cell. \n",
      "\u001b[1;31mPlease review the code in the cell(s) to identify a possible cause of the failure. \n",
      "\u001b[1;31mClick <a href='https://aka.ms/vscodeJupyterKernelCrash'>here</a> for more info. \n",
      "\u001b[1;31mView Jupyter <a href='command:jupyter.viewOutput'>log</a> for further details."
     ]
    }
   ],
   "source": [
    "representation_model = {\n",
    "    \"KeyBERT\": keybert_model,\n",
    "    # \"OpenAI\": openai_model,  # Uncomment if you will use OpenAI\n",
    "    \"MMR\": mmr_model,\n",
    "    # \"POS\": pos_model\n",
    "}\n"
   ]
  },
  {
   "cell_type": "code",
   "execution_count": null,
   "metadata": {},
   "outputs": [
    {
     "name": "stderr",
     "output_type": "stream",
     "text": [
      "2025-01-16 16:37:05,843 - BERTopic - Dimensionality - Fitting the dimensionality reduction algorithm\n"
     ]
    },
    {
     "name": "stdout",
     "output_type": "stream",
     "text": [
      "stopwords: 848\n"
     ]
    },
    {
     "name": "stderr",
     "output_type": "stream",
     "text": [
      "2025-01-16 16:37:14,579 - BERTopic - Dimensionality - Completed ✓\n",
      "2025-01-16 16:37:14,580 - BERTopic - Cluster - Start clustering the reduced embeddings\n",
      "2025-01-16 16:37:14,608 - BERTopic - Cluster - Completed ✓\n",
      "2025-01-16 16:37:14,610 - BERTopic - Representation - Extracting topics from clusters using representation models.\n"
     ]
    }
   ],
   "source": [
    "# Custom CountVectorizer preserving Hungarian characters\n",
    "hungarian_stopwords = [\n",
    "    'és', 'a', 'az', 'hogy', 'nem', 'de', 'mint', 'mert', 'van', 'volt', 'lesz', 'is',\n",
    "    'egy', 'meg', 'szerint', 'vagy', 'mi', 'azt', 'ez', 'ezt', 'ezek', 'ezeket', 'ennek',\n",
    "    'még', \"miatt\", \"miért\", \"mikor\", \"ki\", \"új\", \"nagy\", \"kis\", \"kell\", \"tud\", \"tudja\",\n",
    "    'már', 'pedig', 'akkor', 'majd', 'minden', 'mindig', 'mindenki', 'együtt', \"megint\",\n",
    "    \"millió\", \"milliárd\", \"rogán\", \"antal\", \"személyek\", \"szervezetek\", \"helyek\", \"kulcsszavak\", \"akták\",\n",
    "    \"csak\", \"el\", \"több\", \"kevesebb\", \"kisebb\", \"nagyobb\", \"sem\",\n",
    "]  # Add more Hungarian stopwords as needed\n",
    "\n",
    "with open(\"stopwords-hu.txt\", \"r\") as f:\n",
    "    hungarian_stopwords += f.readlines()\n",
    "\n",
    "print(f\"stopwords: {len(hungarian_stopwords)}\")\n",
    "\n",
    "\n",
    "def custom_preprocessor(text):\n",
    "    # Optionally, you can normalize text here\n",
    "    # return text.lower()\n",
    "    return ' '.join([word.lemma_ for word in nlp(text) if not word.is_stop and not word.is_punct]).lower()\n",
    "\n",
    "\n",
    "# Custom CountVectorizer preserving Hungarian characters\n",
    "vectorizer_model = CountVectorizer(\n",
    "    stop_words=hungarian_stopwords,\n",
    "    token_pattern=r\"(?u)\\b\\w\\w+\\b\",\n",
    "    preprocessor=custom_preprocessor,\n",
    "    min_df=2,\n",
    "    ngram_range=(1, 2),\n",
    ")\n",
    "\n",
    "# Initialize BERTopic with the custom vectorizer\n",
    "topic_model = BERTopic(\n",
    "    language=\"hungarian\",\n",
    "    umap_model=umap_model,\n",
    "    hdbscan_model=hdbscan_model,\n",
    "    vectorizer_model=vectorizer_model,\n",
    "    representation_model=representation_model,\n",
    "    embedding_model=embedder,\n",
    "    # Hyperparameters\n",
    "    top_n_words=10,\n",
    "    verbose=True\n",
    ")\n",
    "\n",
    "topics, probs = topic_model.fit_transform(texts, embeddings)"
   ]
  },
  {
   "cell_type": "code",
   "execution_count": null,
   "metadata": {},
   "outputs": [
    {
     "name": "stdout",
     "output_type": "stream",
     "text": [
      "    Topic  Count                                              Name  \\\n",
      "0      -1    318                            -1_csak_magyar_el_több   \n",
      "1       0    180              0_kommunikációs_forint_állami_balásy   \n",
      "2       1    127        1_önkormányzat_belvárosi_kerületi_ingatlan   \n",
      "3       2     67          2_letelepedési_magyar_offshore_engedélyt   \n",
      "4       3     61                          3_orbán_magyar_fidesz_ha   \n",
      "5       4     59                      4_schadl_völner_varga_magyar   \n",
      "6       5     45                        5_vizoviczki_sem_el_magyar   \n",
      "7       6     41                    6_habony_eu line_line_balatoni   \n",
      "8       7     29  7_miniszterelnöki_kormány_politikai_kabinetiroda   \n",
      "9       8     24                 8_portik_portik tamás_tamás_hamis   \n",
      "10      9     24                        9_kertész_schmuck_sem_csak   \n",
      "11     10     20       10_koncessziós_gyorsforgalmi_mészáros_állam   \n",
      "12     11     18                          11_fly_fly coop_coop_kft   \n",
      "13     12     16     12_egyesült_egyesült államok_államok_amerikai   \n",
      "14     13     14         13_mobilsign_profitrade_találmány_milliós   \n",
      "15     14     13            14_juhász_jegyző_kerületi_önkormányzat   \n",
      "16     15     12                            15_ner_zrt_állami_mbvk   \n",
      "17     16     12              16_szerencsejáték_milliót_kft_kapott   \n",
      "18     17     11          17_önkormányzat_juhász_kerületi_belváros   \n",
      "\n",
      "                                       Representation  \\\n",
      "0   [csak, magyar, el, több, sem, kft, ha, cég, be...   \n",
      "1   [kommunikációs, forint, állami, balásy, kft, n...   \n",
      "2   [önkormányzat, belvárosi, kerületi, ingatlan, ...   \n",
      "3   [letelepedési, magyar, offshore, engedélyt, cé...   \n",
      "4   [orbán, magyar, fidesz, ha, csak, állami, több...   \n",
      "5   [schadl, völner, varga, magyar, magyar péter, ...   \n",
      "6   [vizoviczki, sem, el, magyar, több, csak, ha, ...   \n",
      "7   [habony, eu line, line, balatoni, cég, eu, mag...   \n",
      "8   [miniszterelnöki, kormány, politikai, kabineti...   \n",
      "9   [portik, portik tamás, tamás, hamis, főügyészs...   \n",
      "10  [kertész, schmuck, sem, csak, ha, után, el, úg...   \n",
      "11  [koncessziós, gyorsforgalmi, mészáros, állam, ...   \n",
      "12  [fly, fly coop, coop, kft, légi, cég, jet, coo...   \n",
      "13  [egyesült, egyesült államok, államok, amerikai...   \n",
      "14  [mobilsign, profitrade, találmány, milliós, un...   \n",
      "15  [juhász, jegyző, kerületi, önkormányzat, kerül...   \n",
      "16  [ner, zrt, állami, mbvk, milliárdos, végrehajt...   \n",
      "17  [szerencsejáték, milliót, kft, kapott, tavaly,...   \n",
      "18  [önkormányzat, juhász, kerületi, belváros, 000...   \n",
      "\n",
      "                                              KeyBERT  \\\n",
      "0   [önkormányzat, kormányzati, kormány, végrehajt...   \n",
      "1   [közbeszerzési, összeg, kormány, milliárdot, k...   \n",
      "2   [belváros lipótváros, polgármester, kerületben...   \n",
      "3   [letelepedési kötvényt, letelepedési kötvények...   \n",
      "4   [orbán kormány, magyar, kormány, kormányzati, ...   \n",
      "5   [magyar péter, főügyész, tanúként, főügyészség...   \n",
      "6   [ügyészség, önkormányzat, ügyben, önkormányzat...   \n",
      "7   [lázár, vagyonkezelő, budapesti, fürstner, vol...   \n",
      "8   [miniszterelnöki kabinetiroda, miniszterelnöki...   \n",
      "9   [budapesti nyomozó, hamis vád, feljelentéseket...   \n",
      "10  [politikus, rogánt, neki, rá, volna, miniszter...   \n",
      "11  [magyar közút, autópályák, úthálózat, autópály...   \n",
      "12  [magyar repülő, hun jet, helikoptereztető, hel...   \n",
      "13  [amerikai nagykövet, szankciók alá, elnöki, el...   \n",
      "14  [találmány hasznosítási, találmányt, találmány...   \n",
      "15  [alpolgármester, kerület jegyzőjét, polgármest...   \n",
      "16  [cége, andrás üzleti, cég, cégek, közbeszerzés...   \n",
      "17  [szerencsejáték zrt, szerencsejáték service, s...   \n",
      "18  [ingatlaneladások, ingatlanügy, ingatlanügyekb...   \n",
      "\n",
      "                                                  MMR  \\\n",
      "0   [magyar, el, cég, forint, állami, lehet, volna...   \n",
      "1   [kommunikációs, kft, nemzeti, nettó, forintot,...   \n",
      "2   [önkormányzat, belvárosi, ingatlan, négyzetmét...   \n",
      "3   [magyar, offshore, cégek, külföldi, kormány, k...   \n",
      "4   [orbán, magyar, csak, állami, politikai, orbán...   \n",
      "5   [magyar péter, judit, varga judit, nyomozó, üg...   \n",
      "6   [el, magyar, olaf, ügyben, kerületi, viszont, ...   \n",
      "7   [eu line, line, magyar, önkormányzat, fürstner...   \n",
      "8   [miniszterelnöki, kormány, politikai, kormányz...   \n",
      "9   [hamis vád, gyanúja, nyomozást, pápa, tízmilli...   \n",
      "10  [kertész, schmuck, volna, miniszter, mondta, p...   \n",
      "11  [koncessziós, mészáros, magyar, kormány, utak,...   \n",
      "12  [fly, fly coop, jet, helikopteres, hun jet, re...   \n",
      "13  [egyesült államok, szankciós, korrupció, trump...   \n",
      "14  [mobilsign, profitrade, milliós, uniós, profit...   \n",
      "15  [juhász, kerületi, önkormányzat, rónaszéki, ön...   \n",
      "16  [állami, mbvk, milliárdos, kft, cég, ellátási,...   \n",
      "17  [szerencsejáték, milliós, szerencsejáték zrt, ...   \n",
      "18  [önkormányzat, juhász, kerületi, fővárosi főüg...   \n",
      "\n",
      "                                  Representative_Docs  \n",
      "0   [A Magyar Péter-ügy megmutatja, hogy baráti-cs...  \n",
      "1   [1360 milliárdot költött az állam a Rogán-féle...  \n",
      "2   [A belvárosi mutyi legsötétebb szeglete: a szo...  \n",
      "3   [Már azonnal jöhet a pénzes külföldi\\nMár fél ...  \n",
      "4   [Az Orbán-rendszer csúcsvállalatának titkai\\n2...  \n",
      "5   [Magyar Péter felülvizsgálati indítványt nyújt...  \n",
      "6   [Az ember, aki ott sem volt - Rogán Antal és a...  \n",
      "7   [Titokzatos svájci cégeken keresztül is a Rogá...  \n",
      "8   [Ezért kerülhetett Rogán Antalhoz egy újabb fo...  \n",
      "9   [Nyomozás indult Portik Tamás ellen\\nHamisan v...  \n",
      "10  [Kanyargós út vezetett Rogán Barbara földvásár...  \n",
      "11  [Az úthálózat legjobb részét passzolja le a ko...  \n",
      "12  [Sarka Kata titokzatos pasija a kulcs Habonyék...  \n",
      "13  [A magyar kormány reakciójában Pressman személ...  \n",
      "14  [A milliárd forintos ötlet: reális, hogy egy t...  \n",
      "15  [Bűnszervezetben elkövetett csalásért jelentet...  \n",
      "16  [NER-közeli cég nyerte a MÁV fertőtlenítésre k...  \n",
      "17  [Pataky Attilára, egy vitorlásra és a Békemene...  \n",
      "18  [Nem talált semmilyen ingatlanmutyit a belváro...  \n",
      "[('kommunikációs', 0.020979920625683747), ('forint', 0.018351144627291715), ('állami', 0.01616737269187832), ('balásy', 0.015703059325478174), ('kft', 0.015079328727710806), ('nemzeti', 0.012849519018314283), ('nettó', 0.01184340278721037), ('forintot', 0.01117493019153322), ('kormányzati', 0.010957852336356643), ('el', 0.010617613396997915)]\n"
     ]
    }
   ],
   "source": [
    "# Step 4: Analyze the results\n",
    "print(topic_model.get_topic_info())  # Get topic information (topic numbers and counts)\n",
    "print(topic_model.get_topic(0))  # Display the top words for topic 0\n"
   ]
  },
  {
   "cell_type": "code",
   "execution_count": null,
   "metadata": {},
   "outputs": [
    {
     "name": "stderr",
     "output_type": "stream",
     "text": [
      "2025-01-16 16:30:33,607 - BERTopic - WARNING: When you use `pickle` to save/load a BERTopic model,please make sure that the environments in which you saveand load the model are **exactly** the same. The version of BERTopic,its dependencies, and python need to remain the same.\n"
     ]
    },
    {
     "data": {
      "application/vnd.plotly.v1+json": {
       "config": {
        "plotlyServerURL": "https://plot.ly"
       },
       "data": [
        {
         "customdata": [
          [
           0,
           "kommunikációs | forint | állami | balásy | kft",
           180
          ],
          [
           1,
           "önkormányzat | belvárosi | kerületi | ingatlan | négyzetméteres",
           127
          ],
          [
           2,
           "letelepedési | magyar | offshore | engedélyt | cég",
           67
          ],
          [
           3,
           "orbán | magyar | fidesz | ha | csak",
           61
          ],
          [
           4,
           "schadl | völner | varga | magyar | magyar péter",
           59
          ],
          [
           5,
           "vizoviczki | sem | el | magyar | több",
           45
          ],
          [
           6,
           "habony | eu line | line | balatoni | cég",
           41
          ],
          [
           7,
           "miniszterelnöki | kormány | politikai | kabinetiroda | kormányzati",
           29
          ],
          [
           8,
           "portik | portik tamás | tamás | hamis | főügyészség",
           24
          ],
          [
           9,
           "kertész | schmuck | sem | csak | ha",
           24
          ],
          [
           10,
           "koncessziós | gyorsforgalmi | mészáros | állam | magyar",
           20
          ],
          [
           11,
           "fly | fly coop | coop | kft | légi",
           18
          ],
          [
           12,
           "egyesült | egyesült államok | államok | amerikai | szankciós",
           16
          ],
          [
           13,
           "mobilsign | profitrade | találmány | milliós | uniós",
           14
          ],
          [
           14,
           "juhász | jegyző | kerületi | önkormányzat | kerület",
           13
          ],
          [
           15,
           "ner | zrt | állami | mbvk | milliárdos",
           12
          ],
          [
           16,
           "szerencsejáték | milliót | kft | kapott | tavaly",
           12
          ],
          [
           17,
           "önkormányzat | juhász | kerületi | belváros | 000",
           11
          ]
         ],
         "hovertemplate": "<b>Topic %{customdata[0]}</b><br>%{customdata[1]}<br>Size: %{customdata[2]}",
         "legendgroup": "",
         "marker": {
          "color": "#B0BEC5",
          "line": {
           "color": "DarkSlateGrey",
           "width": 2
          },
          "size": [
           180,
           127,
           67,
           61,
           59,
           45,
           41,
           29,
           24,
           24,
           20,
           18,
           16,
           14,
           13,
           12,
           12,
           11
          ],
          "sizemode": "area",
          "sizeref": 0.1125,
          "symbol": "circle"
         },
         "mode": "markers",
         "name": "",
         "orientation": "v",
         "showlegend": false,
         "type": "scatter",
         "x": [
          5.705026626586914,
          2.0360193252563477,
          1.6138553619384766,
          1.7837330102920532,
          -13.154133796691895,
          1.0874751806259155,
          1.8985592126846313,
          5.945652484893799,
          -13.450039863586426,
          6.196437358856201,
          5.299195289611816,
          5.412320613861084,
          0.7982561588287354,
          5.370063304901123,
          -12.835299491882324,
          4.843503475189209,
          4.942324638366699,
          -12.538531303405762
         ],
         "xaxis": "x",
         "y": [
          1.7905298471450806,
          -3.318028450012207,
          -2.1687815189361572,
          -2.1306278705596924,
          10.586771011352539,
          -1.8758522272109985,
          -2.893317699432373,
          1.2182590961456299,
          10.882495880126953,
          1.3654509782791138,
          2.1298556327819824,
          1.5219444036483765,
          -1.8775198459625244,
          0.7926361560821533,
          10.268316268920898,
          1.9031978845596313,
          1.4171713590621948,
          9.971699714660645
         ],
         "yaxis": "y"
        }
       ],
       "layout": {
        "annotations": [
         {
          "showarrow": false,
          "text": "D1",
          "x": -15.46754584312439,
          "y": 4.349568772315979,
          "yshift": 10
         },
         {
          "showarrow": false,
          "text": "D2",
          "x": -4.170821440219878,
          "xshift": 10,
          "y": 12.514870262145996
         }
        ],
        "height": 650,
        "hoverlabel": {
         "bgcolor": "white",
         "font": {
          "family": "Rockwell",
          "size": 16
         }
        },
        "legend": {
         "itemsizing": "constant",
         "tracegroupgap": 0
        },
        "margin": {
         "t": 60
        },
        "shapes": [
         {
          "line": {
           "color": "#CFD8DC",
           "width": 2
          },
          "type": "line",
          "x0": -4.170821440219878,
          "x1": -4.170821440219878,
          "y0": -3.815732717514038,
          "y1": 12.514870262145996
         },
         {
          "line": {
           "color": "#9E9E9E",
           "width": 2
          },
          "type": "line",
          "x0": -15.46754584312439,
          "x1": 7.1259029626846315,
          "y0": 4.349568772315979,
          "y1": 4.349568772315979
         }
        ],
        "sliders": [
         {
          "active": 0,
          "pad": {
           "t": 50
          },
          "steps": [
           {
            "args": [
             {
              "marker.color": [
               [
                "red",
                "#B0BEC5",
                "#B0BEC5",
                "#B0BEC5",
                "#B0BEC5",
                "#B0BEC5",
                "#B0BEC5",
                "#B0BEC5",
                "#B0BEC5",
                "#B0BEC5",
                "#B0BEC5",
                "#B0BEC5",
                "#B0BEC5",
                "#B0BEC5",
                "#B0BEC5",
                "#B0BEC5",
                "#B0BEC5",
                "#B0BEC5"
               ]
              ]
             }
            ],
            "label": "Topic 0",
            "method": "update"
           },
           {
            "args": [
             {
              "marker.color": [
               [
                "#B0BEC5",
                "red",
                "#B0BEC5",
                "#B0BEC5",
                "#B0BEC5",
                "#B0BEC5",
                "#B0BEC5",
                "#B0BEC5",
                "#B0BEC5",
                "#B0BEC5",
                "#B0BEC5",
                "#B0BEC5",
                "#B0BEC5",
                "#B0BEC5",
                "#B0BEC5",
                "#B0BEC5",
                "#B0BEC5",
                "#B0BEC5"
               ]
              ]
             }
            ],
            "label": "Topic 1",
            "method": "update"
           },
           {
            "args": [
             {
              "marker.color": [
               [
                "#B0BEC5",
                "#B0BEC5",
                "red",
                "#B0BEC5",
                "#B0BEC5",
                "#B0BEC5",
                "#B0BEC5",
                "#B0BEC5",
                "#B0BEC5",
                "#B0BEC5",
                "#B0BEC5",
                "#B0BEC5",
                "#B0BEC5",
                "#B0BEC5",
                "#B0BEC5",
                "#B0BEC5",
                "#B0BEC5",
                "#B0BEC5"
               ]
              ]
             }
            ],
            "label": "Topic 2",
            "method": "update"
           },
           {
            "args": [
             {
              "marker.color": [
               [
                "#B0BEC5",
                "#B0BEC5",
                "#B0BEC5",
                "red",
                "#B0BEC5",
                "#B0BEC5",
                "#B0BEC5",
                "#B0BEC5",
                "#B0BEC5",
                "#B0BEC5",
                "#B0BEC5",
                "#B0BEC5",
                "#B0BEC5",
                "#B0BEC5",
                "#B0BEC5",
                "#B0BEC5",
                "#B0BEC5",
                "#B0BEC5"
               ]
              ]
             }
            ],
            "label": "Topic 3",
            "method": "update"
           },
           {
            "args": [
             {
              "marker.color": [
               [
                "#B0BEC5",
                "#B0BEC5",
                "#B0BEC5",
                "#B0BEC5",
                "red",
                "#B0BEC5",
                "#B0BEC5",
                "#B0BEC5",
                "#B0BEC5",
                "#B0BEC5",
                "#B0BEC5",
                "#B0BEC5",
                "#B0BEC5",
                "#B0BEC5",
                "#B0BEC5",
                "#B0BEC5",
                "#B0BEC5",
                "#B0BEC5"
               ]
              ]
             }
            ],
            "label": "Topic 4",
            "method": "update"
           },
           {
            "args": [
             {
              "marker.color": [
               [
                "#B0BEC5",
                "#B0BEC5",
                "#B0BEC5",
                "#B0BEC5",
                "#B0BEC5",
                "red",
                "#B0BEC5",
                "#B0BEC5",
                "#B0BEC5",
                "#B0BEC5",
                "#B0BEC5",
                "#B0BEC5",
                "#B0BEC5",
                "#B0BEC5",
                "#B0BEC5",
                "#B0BEC5",
                "#B0BEC5",
                "#B0BEC5"
               ]
              ]
             }
            ],
            "label": "Topic 5",
            "method": "update"
           },
           {
            "args": [
             {
              "marker.color": [
               [
                "#B0BEC5",
                "#B0BEC5",
                "#B0BEC5",
                "#B0BEC5",
                "#B0BEC5",
                "#B0BEC5",
                "red",
                "#B0BEC5",
                "#B0BEC5",
                "#B0BEC5",
                "#B0BEC5",
                "#B0BEC5",
                "#B0BEC5",
                "#B0BEC5",
                "#B0BEC5",
                "#B0BEC5",
                "#B0BEC5",
                "#B0BEC5"
               ]
              ]
             }
            ],
            "label": "Topic 6",
            "method": "update"
           },
           {
            "args": [
             {
              "marker.color": [
               [
                "#B0BEC5",
                "#B0BEC5",
                "#B0BEC5",
                "#B0BEC5",
                "#B0BEC5",
                "#B0BEC5",
                "#B0BEC5",
                "red",
                "#B0BEC5",
                "#B0BEC5",
                "#B0BEC5",
                "#B0BEC5",
                "#B0BEC5",
                "#B0BEC5",
                "#B0BEC5",
                "#B0BEC5",
                "#B0BEC5",
                "#B0BEC5"
               ]
              ]
             }
            ],
            "label": "Topic 7",
            "method": "update"
           },
           {
            "args": [
             {
              "marker.color": [
               [
                "#B0BEC5",
                "#B0BEC5",
                "#B0BEC5",
                "#B0BEC5",
                "#B0BEC5",
                "#B0BEC5",
                "#B0BEC5",
                "#B0BEC5",
                "red",
                "#B0BEC5",
                "#B0BEC5",
                "#B0BEC5",
                "#B0BEC5",
                "#B0BEC5",
                "#B0BEC5",
                "#B0BEC5",
                "#B0BEC5",
                "#B0BEC5"
               ]
              ]
             }
            ],
            "label": "Topic 8",
            "method": "update"
           },
           {
            "args": [
             {
              "marker.color": [
               [
                "#B0BEC5",
                "#B0BEC5",
                "#B0BEC5",
                "#B0BEC5",
                "#B0BEC5",
                "#B0BEC5",
                "#B0BEC5",
                "#B0BEC5",
                "#B0BEC5",
                "red",
                "#B0BEC5",
                "#B0BEC5",
                "#B0BEC5",
                "#B0BEC5",
                "#B0BEC5",
                "#B0BEC5",
                "#B0BEC5",
                "#B0BEC5"
               ]
              ]
             }
            ],
            "label": "Topic 9",
            "method": "update"
           },
           {
            "args": [
             {
              "marker.color": [
               [
                "#B0BEC5",
                "#B0BEC5",
                "#B0BEC5",
                "#B0BEC5",
                "#B0BEC5",
                "#B0BEC5",
                "#B0BEC5",
                "#B0BEC5",
                "#B0BEC5",
                "#B0BEC5",
                "red",
                "#B0BEC5",
                "#B0BEC5",
                "#B0BEC5",
                "#B0BEC5",
                "#B0BEC5",
                "#B0BEC5",
                "#B0BEC5"
               ]
              ]
             }
            ],
            "label": "Topic 10",
            "method": "update"
           },
           {
            "args": [
             {
              "marker.color": [
               [
                "#B0BEC5",
                "#B0BEC5",
                "#B0BEC5",
                "#B0BEC5",
                "#B0BEC5",
                "#B0BEC5",
                "#B0BEC5",
                "#B0BEC5",
                "#B0BEC5",
                "#B0BEC5",
                "#B0BEC5",
                "red",
                "#B0BEC5",
                "#B0BEC5",
                "#B0BEC5",
                "#B0BEC5",
                "#B0BEC5",
                "#B0BEC5"
               ]
              ]
             }
            ],
            "label": "Topic 11",
            "method": "update"
           },
           {
            "args": [
             {
              "marker.color": [
               [
                "#B0BEC5",
                "#B0BEC5",
                "#B0BEC5",
                "#B0BEC5",
                "#B0BEC5",
                "#B0BEC5",
                "#B0BEC5",
                "#B0BEC5",
                "#B0BEC5",
                "#B0BEC5",
                "#B0BEC5",
                "#B0BEC5",
                "red",
                "#B0BEC5",
                "#B0BEC5",
                "#B0BEC5",
                "#B0BEC5",
                "#B0BEC5"
               ]
              ]
             }
            ],
            "label": "Topic 12",
            "method": "update"
           },
           {
            "args": [
             {
              "marker.color": [
               [
                "#B0BEC5",
                "#B0BEC5",
                "#B0BEC5",
                "#B0BEC5",
                "#B0BEC5",
                "#B0BEC5",
                "#B0BEC5",
                "#B0BEC5",
                "#B0BEC5",
                "#B0BEC5",
                "#B0BEC5",
                "#B0BEC5",
                "#B0BEC5",
                "red",
                "#B0BEC5",
                "#B0BEC5",
                "#B0BEC5",
                "#B0BEC5"
               ]
              ]
             }
            ],
            "label": "Topic 13",
            "method": "update"
           },
           {
            "args": [
             {
              "marker.color": [
               [
                "#B0BEC5",
                "#B0BEC5",
                "#B0BEC5",
                "#B0BEC5",
                "#B0BEC5",
                "#B0BEC5",
                "#B0BEC5",
                "#B0BEC5",
                "#B0BEC5",
                "#B0BEC5",
                "#B0BEC5",
                "#B0BEC5",
                "#B0BEC5",
                "#B0BEC5",
                "red",
                "#B0BEC5",
                "#B0BEC5",
                "#B0BEC5"
               ]
              ]
             }
            ],
            "label": "Topic 14",
            "method": "update"
           },
           {
            "args": [
             {
              "marker.color": [
               [
                "#B0BEC5",
                "#B0BEC5",
                "#B0BEC5",
                "#B0BEC5",
                "#B0BEC5",
                "#B0BEC5",
                "#B0BEC5",
                "#B0BEC5",
                "#B0BEC5",
                "#B0BEC5",
                "#B0BEC5",
                "#B0BEC5",
                "#B0BEC5",
                "#B0BEC5",
                "#B0BEC5",
                "red",
                "#B0BEC5",
                "#B0BEC5"
               ]
              ]
             }
            ],
            "label": "Topic 15",
            "method": "update"
           },
           {
            "args": [
             {
              "marker.color": [
               [
                "#B0BEC5",
                "#B0BEC5",
                "#B0BEC5",
                "#B0BEC5",
                "#B0BEC5",
                "#B0BEC5",
                "#B0BEC5",
                "#B0BEC5",
                "#B0BEC5",
                "#B0BEC5",
                "#B0BEC5",
                "#B0BEC5",
                "#B0BEC5",
                "#B0BEC5",
                "#B0BEC5",
                "#B0BEC5",
                "red",
                "#B0BEC5"
               ]
              ]
             }
            ],
            "label": "Topic 16",
            "method": "update"
           },
           {
            "args": [
             {
              "marker.color": [
               [
                "#B0BEC5",
                "#B0BEC5",
                "#B0BEC5",
                "#B0BEC5",
                "#B0BEC5",
                "#B0BEC5",
                "#B0BEC5",
                "#B0BEC5",
                "#B0BEC5",
                "#B0BEC5",
                "#B0BEC5",
                "#B0BEC5",
                "#B0BEC5",
                "#B0BEC5",
                "#B0BEC5",
                "#B0BEC5",
                "#B0BEC5",
                "red"
               ]
              ]
             }
            ],
            "label": "Topic 17",
            "method": "update"
           }
          ]
         }
        ],
        "template": {
         "data": {
          "bar": [
           {
            "error_x": {
             "color": "rgb(36,36,36)"
            },
            "error_y": {
             "color": "rgb(36,36,36)"
            },
            "marker": {
             "line": {
              "color": "white",
              "width": 0.5
             },
             "pattern": {
              "fillmode": "overlay",
              "size": 10,
              "solidity": 0.2
             }
            },
            "type": "bar"
           }
          ],
          "barpolar": [
           {
            "marker": {
             "line": {
              "color": "white",
              "width": 0.5
             },
             "pattern": {
              "fillmode": "overlay",
              "size": 10,
              "solidity": 0.2
             }
            },
            "type": "barpolar"
           }
          ],
          "carpet": [
           {
            "aaxis": {
             "endlinecolor": "rgb(36,36,36)",
             "gridcolor": "white",
             "linecolor": "white",
             "minorgridcolor": "white",
             "startlinecolor": "rgb(36,36,36)"
            },
            "baxis": {
             "endlinecolor": "rgb(36,36,36)",
             "gridcolor": "white",
             "linecolor": "white",
             "minorgridcolor": "white",
             "startlinecolor": "rgb(36,36,36)"
            },
            "type": "carpet"
           }
          ],
          "choropleth": [
           {
            "colorbar": {
             "outlinewidth": 1,
             "tickcolor": "rgb(36,36,36)",
             "ticks": "outside"
            },
            "type": "choropleth"
           }
          ],
          "contour": [
           {
            "colorbar": {
             "outlinewidth": 1,
             "tickcolor": "rgb(36,36,36)",
             "ticks": "outside"
            },
            "colorscale": [
             [
              0,
              "#440154"
             ],
             [
              0.1111111111111111,
              "#482878"
             ],
             [
              0.2222222222222222,
              "#3e4989"
             ],
             [
              0.3333333333333333,
              "#31688e"
             ],
             [
              0.4444444444444444,
              "#26828e"
             ],
             [
              0.5555555555555556,
              "#1f9e89"
             ],
             [
              0.6666666666666666,
              "#35b779"
             ],
             [
              0.7777777777777778,
              "#6ece58"
             ],
             [
              0.8888888888888888,
              "#b5de2b"
             ],
             [
              1,
              "#fde725"
             ]
            ],
            "type": "contour"
           }
          ],
          "contourcarpet": [
           {
            "colorbar": {
             "outlinewidth": 1,
             "tickcolor": "rgb(36,36,36)",
             "ticks": "outside"
            },
            "type": "contourcarpet"
           }
          ],
          "heatmap": [
           {
            "colorbar": {
             "outlinewidth": 1,
             "tickcolor": "rgb(36,36,36)",
             "ticks": "outside"
            },
            "colorscale": [
             [
              0,
              "#440154"
             ],
             [
              0.1111111111111111,
              "#482878"
             ],
             [
              0.2222222222222222,
              "#3e4989"
             ],
             [
              0.3333333333333333,
              "#31688e"
             ],
             [
              0.4444444444444444,
              "#26828e"
             ],
             [
              0.5555555555555556,
              "#1f9e89"
             ],
             [
              0.6666666666666666,
              "#35b779"
             ],
             [
              0.7777777777777778,
              "#6ece58"
             ],
             [
              0.8888888888888888,
              "#b5de2b"
             ],
             [
              1,
              "#fde725"
             ]
            ],
            "type": "heatmap"
           }
          ],
          "heatmapgl": [
           {
            "colorbar": {
             "outlinewidth": 1,
             "tickcolor": "rgb(36,36,36)",
             "ticks": "outside"
            },
            "colorscale": [
             [
              0,
              "#440154"
             ],
             [
              0.1111111111111111,
              "#482878"
             ],
             [
              0.2222222222222222,
              "#3e4989"
             ],
             [
              0.3333333333333333,
              "#31688e"
             ],
             [
              0.4444444444444444,
              "#26828e"
             ],
             [
              0.5555555555555556,
              "#1f9e89"
             ],
             [
              0.6666666666666666,
              "#35b779"
             ],
             [
              0.7777777777777778,
              "#6ece58"
             ],
             [
              0.8888888888888888,
              "#b5de2b"
             ],
             [
              1,
              "#fde725"
             ]
            ],
            "type": "heatmapgl"
           }
          ],
          "histogram": [
           {
            "marker": {
             "line": {
              "color": "white",
              "width": 0.6
             }
            },
            "type": "histogram"
           }
          ],
          "histogram2d": [
           {
            "colorbar": {
             "outlinewidth": 1,
             "tickcolor": "rgb(36,36,36)",
             "ticks": "outside"
            },
            "colorscale": [
             [
              0,
              "#440154"
             ],
             [
              0.1111111111111111,
              "#482878"
             ],
             [
              0.2222222222222222,
              "#3e4989"
             ],
             [
              0.3333333333333333,
              "#31688e"
             ],
             [
              0.4444444444444444,
              "#26828e"
             ],
             [
              0.5555555555555556,
              "#1f9e89"
             ],
             [
              0.6666666666666666,
              "#35b779"
             ],
             [
              0.7777777777777778,
              "#6ece58"
             ],
             [
              0.8888888888888888,
              "#b5de2b"
             ],
             [
              1,
              "#fde725"
             ]
            ],
            "type": "histogram2d"
           }
          ],
          "histogram2dcontour": [
           {
            "colorbar": {
             "outlinewidth": 1,
             "tickcolor": "rgb(36,36,36)",
             "ticks": "outside"
            },
            "colorscale": [
             [
              0,
              "#440154"
             ],
             [
              0.1111111111111111,
              "#482878"
             ],
             [
              0.2222222222222222,
              "#3e4989"
             ],
             [
              0.3333333333333333,
              "#31688e"
             ],
             [
              0.4444444444444444,
              "#26828e"
             ],
             [
              0.5555555555555556,
              "#1f9e89"
             ],
             [
              0.6666666666666666,
              "#35b779"
             ],
             [
              0.7777777777777778,
              "#6ece58"
             ],
             [
              0.8888888888888888,
              "#b5de2b"
             ],
             [
              1,
              "#fde725"
             ]
            ],
            "type": "histogram2dcontour"
           }
          ],
          "mesh3d": [
           {
            "colorbar": {
             "outlinewidth": 1,
             "tickcolor": "rgb(36,36,36)",
             "ticks": "outside"
            },
            "type": "mesh3d"
           }
          ],
          "parcoords": [
           {
            "line": {
             "colorbar": {
              "outlinewidth": 1,
              "tickcolor": "rgb(36,36,36)",
              "ticks": "outside"
             }
            },
            "type": "parcoords"
           }
          ],
          "pie": [
           {
            "automargin": true,
            "type": "pie"
           }
          ],
          "scatter": [
           {
            "fillpattern": {
             "fillmode": "overlay",
             "size": 10,
             "solidity": 0.2
            },
            "type": "scatter"
           }
          ],
          "scatter3d": [
           {
            "line": {
             "colorbar": {
              "outlinewidth": 1,
              "tickcolor": "rgb(36,36,36)",
              "ticks": "outside"
             }
            },
            "marker": {
             "colorbar": {
              "outlinewidth": 1,
              "tickcolor": "rgb(36,36,36)",
              "ticks": "outside"
             }
            },
            "type": "scatter3d"
           }
          ],
          "scattercarpet": [
           {
            "marker": {
             "colorbar": {
              "outlinewidth": 1,
              "tickcolor": "rgb(36,36,36)",
              "ticks": "outside"
             }
            },
            "type": "scattercarpet"
           }
          ],
          "scattergeo": [
           {
            "marker": {
             "colorbar": {
              "outlinewidth": 1,
              "tickcolor": "rgb(36,36,36)",
              "ticks": "outside"
             }
            },
            "type": "scattergeo"
           }
          ],
          "scattergl": [
           {
            "marker": {
             "colorbar": {
              "outlinewidth": 1,
              "tickcolor": "rgb(36,36,36)",
              "ticks": "outside"
             }
            },
            "type": "scattergl"
           }
          ],
          "scattermapbox": [
           {
            "marker": {
             "colorbar": {
              "outlinewidth": 1,
              "tickcolor": "rgb(36,36,36)",
              "ticks": "outside"
             }
            },
            "type": "scattermapbox"
           }
          ],
          "scatterpolar": [
           {
            "marker": {
             "colorbar": {
              "outlinewidth": 1,
              "tickcolor": "rgb(36,36,36)",
              "ticks": "outside"
             }
            },
            "type": "scatterpolar"
           }
          ],
          "scatterpolargl": [
           {
            "marker": {
             "colorbar": {
              "outlinewidth": 1,
              "tickcolor": "rgb(36,36,36)",
              "ticks": "outside"
             }
            },
            "type": "scatterpolargl"
           }
          ],
          "scatterternary": [
           {
            "marker": {
             "colorbar": {
              "outlinewidth": 1,
              "tickcolor": "rgb(36,36,36)",
              "ticks": "outside"
             }
            },
            "type": "scatterternary"
           }
          ],
          "surface": [
           {
            "colorbar": {
             "outlinewidth": 1,
             "tickcolor": "rgb(36,36,36)",
             "ticks": "outside"
            },
            "colorscale": [
             [
              0,
              "#440154"
             ],
             [
              0.1111111111111111,
              "#482878"
             ],
             [
              0.2222222222222222,
              "#3e4989"
             ],
             [
              0.3333333333333333,
              "#31688e"
             ],
             [
              0.4444444444444444,
              "#26828e"
             ],
             [
              0.5555555555555556,
              "#1f9e89"
             ],
             [
              0.6666666666666666,
              "#35b779"
             ],
             [
              0.7777777777777778,
              "#6ece58"
             ],
             [
              0.8888888888888888,
              "#b5de2b"
             ],
             [
              1,
              "#fde725"
             ]
            ],
            "type": "surface"
           }
          ],
          "table": [
           {
            "cells": {
             "fill": {
              "color": "rgb(237,237,237)"
             },
             "line": {
              "color": "white"
             }
            },
            "header": {
             "fill": {
              "color": "rgb(217,217,217)"
             },
             "line": {
              "color": "white"
             }
            },
            "type": "table"
           }
          ]
         },
         "layout": {
          "annotationdefaults": {
           "arrowhead": 0,
           "arrowwidth": 1
          },
          "autotypenumbers": "strict",
          "coloraxis": {
           "colorbar": {
            "outlinewidth": 1,
            "tickcolor": "rgb(36,36,36)",
            "ticks": "outside"
           }
          },
          "colorscale": {
           "diverging": [
            [
             0,
             "rgb(103,0,31)"
            ],
            [
             0.1,
             "rgb(178,24,43)"
            ],
            [
             0.2,
             "rgb(214,96,77)"
            ],
            [
             0.3,
             "rgb(244,165,130)"
            ],
            [
             0.4,
             "rgb(253,219,199)"
            ],
            [
             0.5,
             "rgb(247,247,247)"
            ],
            [
             0.6,
             "rgb(209,229,240)"
            ],
            [
             0.7,
             "rgb(146,197,222)"
            ],
            [
             0.8,
             "rgb(67,147,195)"
            ],
            [
             0.9,
             "rgb(33,102,172)"
            ],
            [
             1,
             "rgb(5,48,97)"
            ]
           ],
           "sequential": [
            [
             0,
             "#440154"
            ],
            [
             0.1111111111111111,
             "#482878"
            ],
            [
             0.2222222222222222,
             "#3e4989"
            ],
            [
             0.3333333333333333,
             "#31688e"
            ],
            [
             0.4444444444444444,
             "#26828e"
            ],
            [
             0.5555555555555556,
             "#1f9e89"
            ],
            [
             0.6666666666666666,
             "#35b779"
            ],
            [
             0.7777777777777778,
             "#6ece58"
            ],
            [
             0.8888888888888888,
             "#b5de2b"
            ],
            [
             1,
             "#fde725"
            ]
           ],
           "sequentialminus": [
            [
             0,
             "#440154"
            ],
            [
             0.1111111111111111,
             "#482878"
            ],
            [
             0.2222222222222222,
             "#3e4989"
            ],
            [
             0.3333333333333333,
             "#31688e"
            ],
            [
             0.4444444444444444,
             "#26828e"
            ],
            [
             0.5555555555555556,
             "#1f9e89"
            ],
            [
             0.6666666666666666,
             "#35b779"
            ],
            [
             0.7777777777777778,
             "#6ece58"
            ],
            [
             0.8888888888888888,
             "#b5de2b"
            ],
            [
             1,
             "#fde725"
            ]
           ]
          },
          "colorway": [
           "#1F77B4",
           "#FF7F0E",
           "#2CA02C",
           "#D62728",
           "#9467BD",
           "#8C564B",
           "#E377C2",
           "#7F7F7F",
           "#BCBD22",
           "#17BECF"
          ],
          "font": {
           "color": "rgb(36,36,36)"
          },
          "geo": {
           "bgcolor": "white",
           "lakecolor": "white",
           "landcolor": "white",
           "showlakes": true,
           "showland": true,
           "subunitcolor": "white"
          },
          "hoverlabel": {
           "align": "left"
          },
          "hovermode": "closest",
          "mapbox": {
           "style": "light"
          },
          "paper_bgcolor": "white",
          "plot_bgcolor": "white",
          "polar": {
           "angularaxis": {
            "gridcolor": "rgb(232,232,232)",
            "linecolor": "rgb(36,36,36)",
            "showgrid": false,
            "showline": true,
            "ticks": "outside"
           },
           "bgcolor": "white",
           "radialaxis": {
            "gridcolor": "rgb(232,232,232)",
            "linecolor": "rgb(36,36,36)",
            "showgrid": false,
            "showline": true,
            "ticks": "outside"
           }
          },
          "scene": {
           "xaxis": {
            "backgroundcolor": "white",
            "gridcolor": "rgb(232,232,232)",
            "gridwidth": 2,
            "linecolor": "rgb(36,36,36)",
            "showbackground": true,
            "showgrid": false,
            "showline": true,
            "ticks": "outside",
            "zeroline": false,
            "zerolinecolor": "rgb(36,36,36)"
           },
           "yaxis": {
            "backgroundcolor": "white",
            "gridcolor": "rgb(232,232,232)",
            "gridwidth": 2,
            "linecolor": "rgb(36,36,36)",
            "showbackground": true,
            "showgrid": false,
            "showline": true,
            "ticks": "outside",
            "zeroline": false,
            "zerolinecolor": "rgb(36,36,36)"
           },
           "zaxis": {
            "backgroundcolor": "white",
            "gridcolor": "rgb(232,232,232)",
            "gridwidth": 2,
            "linecolor": "rgb(36,36,36)",
            "showbackground": true,
            "showgrid": false,
            "showline": true,
            "ticks": "outside",
            "zeroline": false,
            "zerolinecolor": "rgb(36,36,36)"
           }
          },
          "shapedefaults": {
           "fillcolor": "black",
           "line": {
            "width": 0
           },
           "opacity": 0.3
          },
          "ternary": {
           "aaxis": {
            "gridcolor": "rgb(232,232,232)",
            "linecolor": "rgb(36,36,36)",
            "showgrid": false,
            "showline": true,
            "ticks": "outside"
           },
           "baxis": {
            "gridcolor": "rgb(232,232,232)",
            "linecolor": "rgb(36,36,36)",
            "showgrid": false,
            "showline": true,
            "ticks": "outside"
           },
           "bgcolor": "white",
           "caxis": {
            "gridcolor": "rgb(232,232,232)",
            "linecolor": "rgb(36,36,36)",
            "showgrid": false,
            "showline": true,
            "ticks": "outside"
           }
          },
          "title": {
           "x": 0.05
          },
          "xaxis": {
           "automargin": true,
           "gridcolor": "rgb(232,232,232)",
           "linecolor": "rgb(36,36,36)",
           "showgrid": false,
           "showline": true,
           "ticks": "outside",
           "title": {
            "standoff": 15
           },
           "zeroline": false,
           "zerolinecolor": "rgb(36,36,36)"
          },
          "yaxis": {
           "automargin": true,
           "gridcolor": "rgb(232,232,232)",
           "linecolor": "rgb(36,36,36)",
           "showgrid": false,
           "showline": true,
           "ticks": "outside",
           "title": {
            "standoff": 15
           },
           "zeroline": false,
           "zerolinecolor": "rgb(36,36,36)"
          }
         }
        },
        "title": {
         "font": {
          "color": "Black",
          "size": 22
         },
         "text": "<b>Intertopic Distance Map</b>",
         "x": 0.5,
         "xanchor": "center",
         "y": 0.95,
         "yanchor": "top"
        },
        "width": 650,
        "xaxis": {
         "anchor": "y",
         "domain": [
          0,
          1
         ],
         "range": [
          -15.46754584312439,
          7.1259029626846315
         ],
         "title": {
          "text": ""
         },
         "visible": false
        },
        "yaxis": {
         "anchor": "x",
         "domain": [
          0,
          1
         ],
         "range": [
          -3.815732717514038,
          12.514870262145996
         ],
         "title": {
          "text": ""
         },
         "visible": false
        }
       }
      }
     },
     "metadata": {},
     "output_type": "display_data"
    }
   ],
   "source": [
    "# Step 5: Save the model and visualize results\n",
    "topic_model.save(\"bertopic_model\")\n",
    "visualization = topic_model.visualize_topics()\n",
    "visualization.show()\n"
   ]
  },
  {
   "cell_type": "code",
   "execution_count": null,
   "metadata": {},
   "outputs": [
    {
     "name": "stdout",
     "output_type": "stream",
     "text": [
      "0 4\n",
      "1 5\n",
      "2 6\n",
      "4 3\n",
      "5 1\n",
      "6 5\n",
      "7 1\n",
      "14 3\n",
      "15 3\n",
      "16 1\n",
      "18 3\n",
      "19 1\n",
      "20 1\n",
      "21 3\n",
      "23 3\n",
      "26 1\n",
      "27 17\n",
      "28 5\n",
      "29 1\n",
      "30 5\n",
      "32 1\n",
      "33 0\n",
      "34 3\n",
      "35 1\n",
      "36 3\n",
      "38 1\n",
      "39 1\n",
      "41 7\n",
      "44 5\n",
      "45 0\n",
      "47 6\n",
      "49 1\n",
      "50 9\n",
      "52 1\n",
      "53 1\n",
      "55 9\n",
      "56 1\n",
      "57 9\n",
      "58 1\n",
      "59 9\n",
      "60 9\n",
      "61 1\n",
      "62 14\n",
      "64 3\n",
      "65 9\n",
      "67 1\n",
      "68 14\n",
      "69 1\n",
      "71 14\n",
      "72 1\n",
      "73 14\n",
      "75 1\n",
      "77 6\n",
      "78 1\n",
      "80 3\n",
      "81 3\n",
      "82 6\n",
      "83 0\n",
      "84 1\n",
      "85 1\n",
      "86 1\n",
      "87 1\n",
      "89 5\n",
      "90 6\n",
      "91 5\n",
      "93 1\n",
      "97 14\n",
      "99 1\n",
      "100 3\n",
      "101 5\n",
      "102 1\n",
      "104 8\n",
      "105 1\n",
      "108 14\n",
      "109 1\n",
      "111 1\n",
      "114 14\n",
      "115 6\n",
      "116 1\n",
      "117 5\n",
      "118 1\n",
      "120 1\n",
      "122 1\n",
      "123 1\n",
      "125 1\n",
      "126 1\n",
      "127 1\n",
      "128 1\n",
      "129 1\n",
      "131 1\n",
      "134 17\n",
      "135 14\n",
      "137 1\n",
      "138 1\n",
      "139 1\n",
      "140 1\n",
      "141 1\n",
      "144 1\n",
      "146 3\n",
      "148 6\n",
      "149 0\n",
      "150 17\n",
      "151 5\n",
      "152 1\n",
      "153 1\n",
      "155 9\n",
      "156 3\n",
      "157 17\n",
      "158 0\n",
      "159 1\n",
      "160 5\n",
      "161 5\n",
      "162 17\n",
      "164 3\n",
      "165 1\n",
      "168 17\n",
      "169 8\n",
      "170 17\n",
      "171 6\n",
      "172 5\n",
      "173 1\n",
      "174 1\n",
      "175 17\n",
      "176 0\n",
      "177 5\n",
      "178 2\n",
      "179 0\n",
      "181 3\n",
      "182 0\n",
      "183 5\n",
      "185 0\n",
      "186 1\n",
      "189 1\n",
      "190 3\n",
      "191 2\n",
      "192 1\n",
      "193 7\n",
      "194 6\n",
      "195 0\n",
      "196 7\n",
      "197 0\n",
      "199 2\n",
      "200 0\n",
      "201 2\n",
      "203 17\n",
      "204 0\n",
      "205 1\n",
      "209 0\n",
      "210 1\n",
      "212 7\n",
      "213 3\n",
      "214 7\n",
      "215 1\n",
      "216 7\n",
      "217 0\n",
      "219 7\n",
      "220 7\n",
      "221 3\n",
      "223 1\n",
      "224 2\n",
      "225 14\n",
      "228 0\n",
      "229 0\n",
      "230 0\n",
      "232 0\n",
      "233 2\n",
      "234 0\n",
      "235 2\n",
      "236 5\n",
      "238 0\n",
      "239 0\n",
      "241 7\n",
      "242 14\n",
      "243 6\n",
      "244 1\n",
      "245 0\n",
      "246 2\n",
      "247 0\n",
      "248 5\n",
      "249 3\n",
      "250 5\n",
      "251 3\n",
      "252 3\n",
      "254 8\n",
      "255 9\n",
      "256 8\n",
      "257 8\n",
      "260 5\n",
      "261 11\n",
      "262 6\n",
      "266 4\n",
      "267 2\n",
      "268 2\n",
      "269 8\n",
      "270 5\n",
      "271 8\n",
      "272 5\n",
      "273 0\n",
      "274 4\n",
      "275 8\n",
      "276 2\n",
      "277 2\n",
      "278 0\n",
      "279 8\n",
      "280 2\n",
      "281 5\n",
      "283 8\n",
      "284 0\n",
      "285 0\n",
      "287 13\n",
      "288 13\n",
      "289 13\n",
      "290 9\n",
      "291 5\n",
      "292 17\n",
      "294 2\n",
      "295 8\n",
      "296 17\n",
      "297 8\n",
      "298 8\n",
      "299 8\n",
      "300 2\n",
      "301 8\n",
      "302 4\n",
      "304 10\n",
      "306 0\n",
      "309 5\n",
      "310 3\n",
      "311 0\n",
      "312 2\n",
      "314 8\n",
      "315 2\n",
      "316 3\n",
      "317 11\n",
      "318 11\n",
      "319 2\n",
      "320 11\n",
      "321 11\n",
      "322 1\n",
      "323 0\n",
      "324 2\n",
      "327 7\n",
      "332 2\n",
      "333 2\n",
      "334 5\n",
      "335 2\n",
      "336 2\n",
      "338 0\n",
      "340 2\n",
      "341 0\n",
      "342 0\n",
      "343 9\n",
      "344 9\n",
      "345 5\n",
      "346 7\n",
      "348 9\n",
      "349 5\n",
      "350 2\n",
      "352 6\n",
      "353 9\n",
      "354 1\n",
      "356 1\n",
      "358 1\n",
      "359 2\n",
      "360 9\n",
      "362 0\n",
      "365 7\n",
      "366 6\n",
      "368 0\n",
      "369 1\n",
      "370 3\n",
      "371 3\n",
      "372 1\n",
      "374 6\n",
      "375 0\n",
      "376 2\n",
      "377 0\n",
      "379 8\n",
      "381 6\n",
      "382 2\n",
      "383 7\n",
      "384 6\n",
      "386 1\n",
      "387 2\n",
      "389 6\n",
      "392 1\n",
      "395 0\n",
      "396 5\n",
      "397 2\n",
      "402 2\n",
      "404 1\n",
      "409 2\n",
      "410 1\n",
      "411 0\n",
      "414 4\n",
      "415 1\n",
      "417 1\n",
      "418 1\n",
      "421 3\n",
      "423 0\n",
      "424 1\n",
      "425 5\n",
      "426 11\n",
      "428 0\n",
      "430 2\n",
      "431 2\n",
      "432 1\n",
      "433 9\n",
      "434 8\n",
      "436 8\n",
      "437 8\n",
      "439 2\n",
      "440 6\n",
      "443 11\n",
      "444 1\n",
      "445 2\n",
      "447 2\n",
      "448 0\n",
      "449 2\n",
      "453 1\n",
      "455 0\n",
      "456 0\n",
      "458 7\n",
      "459 0\n",
      "460 0\n",
      "461 3\n",
      "463 0\n",
      "466 2\n",
      "467 0\n",
      "468 0\n",
      "469 0\n",
      "471 1\n",
      "472 7\n",
      "473 0\n",
      "474 6\n",
      "475 2\n",
      "476 2\n",
      "478 2\n",
      "480 5\n",
      "481 0\n",
      "482 11\n",
      "483 0\n",
      "484 5\n",
      "485 5\n",
      "486 3\n",
      "487 0\n",
      "491 13\n",
      "492 0\n",
      "494 0\n",
      "497 0\n",
      "499 13\n",
      "500 13\n",
      "501 2\n",
      "503 13\n",
      "506 6\n",
      "507 15\n",
      "509 3\n",
      "511 11\n",
      "515 15\n",
      "516 3\n",
      "518 2\n",
      "520 3\n",
      "521 0\n",
      "522 0\n",
      "523 1\n",
      "524 2\n",
      "525 1\n",
      "526 0\n",
      "527 11\n",
      "528 6\n",
      "529 1\n",
      "530 2\n",
      "531 2\n",
      "534 5\n",
      "536 6\n",
      "537 2\n",
      "538 0\n",
      "539 2\n",
      "540 6\n",
      "541 16\n",
      "542 11\n",
      "544 6\n",
      "545 0\n",
      "547 0\n",
      "548 6\n",
      "549 0\n",
      "550 3\n",
      "551 0\n",
      "552 0\n",
      "553 1\n",
      "554 1\n",
      "556 1\n",
      "557 1\n",
      "558 1\n",
      "559 3\n",
      "560 8\n",
      "563 11\n",
      "564 0\n",
      "565 1\n",
      "566 7\n",
      "568 0\n",
      "569 1\n",
      "570 1\n",
      "572 15\n",
      "574 0\n",
      "575 6\n",
      "576 6\n",
      "577 0\n",
      "578 0\n",
      "579 0\n",
      "582 6\n",
      "584 15\n",
      "585 1\n",
      "586 1\n",
      "587 1\n",
      "588 1\n",
      "589 1\n",
      "590 15\n",
      "591 0\n",
      "592 0\n",
      "593 15\n",
      "594 0\n",
      "595 1\n",
      "596 1\n",
      "597 0\n",
      "599 0\n",
      "606 0\n",
      "607 7\n",
      "609 16\n",
      "610 0\n",
      "611 0\n",
      "612 1\n",
      "613 1\n",
      "614 1\n",
      "616 11\n",
      "617 6\n",
      "618 15\n",
      "619 3\n",
      "620 1\n",
      "621 7\n",
      "623 1\n",
      "628 15\n",
      "630 9\n",
      "631 9\n",
      "632 1\n",
      "633 0\n",
      "635 13\n",
      "639 0\n",
      "640 0\n",
      "641 0\n",
      "643 0\n",
      "644 0\n",
      "647 0\n",
      "648 0\n",
      "649 0\n",
      "650 15\n",
      "651 0\n",
      "652 16\n",
      "653 6\n",
      "654 10\n",
      "657 1\n",
      "658 10\n",
      "659 10\n",
      "660 10\n",
      "662 10\n",
      "663 6\n",
      "664 0\n",
      "665 3\n",
      "666 0\n",
      "667 10\n",
      "668 1\n",
      "669 6\n",
      "671 1\n",
      "674 1\n",
      "675 3\n",
      "676 0\n",
      "677 16\n",
      "678 1\n",
      "680 3\n",
      "681 0\n",
      "682 3\n",
      "683 16\n",
      "685 2\n",
      "687 0\n",
      "688 2\n",
      "689 1\n",
      "696 5\n",
      "698 1\n",
      "699 0\n",
      "702 0\n",
      "703 6\n",
      "705 3\n",
      "708 4\n",
      "709 4\n",
      "711 4\n",
      "714 6\n",
      "715 0\n",
      "717 3\n",
      "719 9\n",
      "720 5\n",
      "721 4\n",
      "722 6\n",
      "723 0\n",
      "724 0\n",
      "727 1\n",
      "728 0\n",
      "730 0\n",
      "733 7\n",
      "736 1\n",
      "737 2\n",
      "739 2\n",
      "743 10\n",
      "745 0\n",
      "750 0\n",
      "752 16\n",
      "753 1\n",
      "754 3\n",
      "755 0\n",
      "757 0\n",
      "760 10\n",
      "761 6\n",
      "762 10\n",
      "763 6\n",
      "765 7\n",
      "766 7\n",
      "767 7\n",
      "768 7\n",
      "769 6\n",
      "770 10\n",
      "771 7\n",
      "772 7\n",
      "775 0\n",
      "779 0\n",
      "781 13\n",
      "784 0\n",
      "787 0\n",
      "788 3\n",
      "789 10\n",
      "790 0\n",
      "791 13\n",
      "792 0\n",
      "793 4\n",
      "794 0\n",
      "795 0\n",
      "797 14\n",
      "798 14\n",
      "799 7\n",
      "803 6\n",
      "804 0\n",
      "807 0\n",
      "809 5\n",
      "810 1\n",
      "812 14\n",
      "813 9\n",
      "815 4\n",
      "816 1\n",
      "817 3\n",
      "818 5\n",
      "820 0\n",
      "821 1\n",
      "822 0\n",
      "823 0\n",
      "825 1\n",
      "826 5\n",
      "827 3\n",
      "828 9\n",
      "829 1\n",
      "832 8\n",
      "833 5\n",
      "835 9\n",
      "836 9\n",
      "837 9\n",
      "838 0\n",
      "841 6\n",
      "842 3\n",
      "844 0\n",
      "845 0\n",
      "846 10\n",
      "847 13\n",
      "848 4\n",
      "849 0\n",
      "850 0\n",
      "851 3\n",
      "852 0\n",
      "853 0\n",
      "854 13\n",
      "855 0\n",
      "856 16\n",
      "857 5\n",
      "859 0\n",
      "860 0\n",
      "861 2\n",
      "862 10\n",
      "863 3\n",
      "865 11\n",
      "870 0\n",
      "871 0\n",
      "872 0\n",
      "873 1\n",
      "875 1\n",
      "878 0\n",
      "881 1\n",
      "882 0\n",
      "883 2\n",
      "884 10\n",
      "886 3\n",
      "887 0\n",
      "888 0\n",
      "889 0\n",
      "891 1\n",
      "893 5\n",
      "894 7\n",
      "895 0\n",
      "896 3\n",
      "897 0\n",
      "898 0\n",
      "899 0\n",
      "900 3\n",
      "901 1\n",
      "902 2\n",
      "903 0\n",
      "904 2\n",
      "905 16\n",
      "906 16\n",
      "907 16\n",
      "908 3\n",
      "909 15\n",
      "910 11\n",
      "913 5\n",
      "916 0\n",
      "917 3\n",
      "919 1\n",
      "922 15\n",
      "925 13\n",
      "926 15\n",
      "929 0\n",
      "930 0\n",
      "931 0\n",
      "935 0\n",
      "939 1\n",
      "941 0\n",
      "943 0\n",
      "945 4\n",
      "946 5\n",
      "948 4\n",
      "949 4\n",
      "950 4\n",
      "951 4\n",
      "952 5\n",
      "953 4\n",
      "954 4\n",
      "955 4\n",
      "956 4\n",
      "957 4\n",
      "958 4\n",
      "959 4\n",
      "960 4\n",
      "961 4\n",
      "963 4\n",
      "964 4\n",
      "965 4\n",
      "966 4\n",
      "967 4\n",
      "968 4\n",
      "970 4\n",
      "973 4\n",
      "974 4\n",
      "975 4\n",
      "976 2\n",
      "980 4\n",
      "981 4\n",
      "983 4\n",
      "986 0\n",
      "988 0\n",
      "989 0\n",
      "991 0\n",
      "992 3\n",
      "993 4\n",
      "994 0\n",
      "995 0\n",
      "996 0\n",
      "997 5\n",
      "998 4\n",
      "999 2\n",
      "1002 16\n",
      "1003 16\n",
      "1005 13\n",
      "1007 9\n",
      "1008 3\n",
      "1009 3\n",
      "1010 4\n",
      "1011 4\n",
      "1012 4\n",
      "1013 0\n",
      "1014 0\n",
      "1016 4\n",
      "1019 0\n",
      "1020 0\n",
      "1021 0\n",
      "1022 3\n",
      "1023 3\n",
      "1024 0\n",
      "1025 4\n",
      "1030 8\n",
      "1031 0\n",
      "1032 0\n",
      "1033 0\n",
      "1037 4\n",
      "1038 4\n",
      "1039 3\n",
      "1040 4\n",
      "1041 0\n",
      "1042 0\n",
      "1043 0\n",
      "1044 4\n",
      "1045 0\n",
      "1047 0\n",
      "1048 0\n",
      "1049 0\n",
      "1050 0\n",
      "1051 2\n",
      "1052 11\n",
      "1053 0\n",
      "1055 3\n",
      "1056 3\n",
      "1058 11\n",
      "1059 11\n",
      "1060 4\n",
      "1061 0\n",
      "1062 0\n",
      "1063 0\n",
      "1064 4\n",
      "1067 6\n",
      "1069 0\n",
      "1070 0\n",
      "1072 12\n",
      "1073 12\n",
      "1074 12\n",
      "1075 12\n",
      "1076 12\n",
      "1077 12\n",
      "1078 12\n",
      "1079 12\n",
      "1081 12\n",
      "1082 12\n",
      "1083 12\n",
      "1084 12\n",
      "1087 12\n",
      "1089 12\n",
      "1090 12\n"
     ]
    }
   ],
   "source": [
    "id_by_topic = {}\n",
    "filtered_result = topic_model.get_document_info(texts).where(lambda x: x['Probability'] > 0.5).dropna()\n",
    "for row in filtered_result.iterrows():\n",
    "    print(row[0], int(row[1]['Topic']))\n",
    "    id_by_topic.setdefault(int(row[1]['Topic']), []).append(row[0])"
   ]
  },
  {
   "cell_type": "code",
   "execution_count": null,
   "metadata": {},
   "outputs": [],
   "source": [
    "id_by_topic\n",
    "\n",
    "# set topics for ds rows\n",
    "for topic, ids in id_by_topic.items():\n",
    "    for id in ids:\n",
    "        dsf['train'][id]['topic'] = topic"
   ]
  },
  {
   "cell_type": "code",
   "execution_count": null,
   "metadata": {},
   "outputs": [
    {
     "data": {
      "text/plain": [
       "DatasetDict({\n",
       "    train: Dataset({\n",
       "        features: ['news_id', 'title', 'description', 'text', 'source_url', 'archive_url', 'kmdb_url', 'newspaper', 'category', 'pub_time', 'persons', 'institutions', 'places', 'others', 'files'],\n",
       "        num_rows: 1091\n",
       "    })\n",
       "})"
      ]
     },
     "execution_count": 23,
     "metadata": {},
     "output_type": "execute_result"
    }
   ],
   "source": [
    "dsf"
   ]
  },
  {
   "cell_type": "code",
   "execution_count": null,
   "metadata": {},
   "outputs": [
    {
     "name": "stdout",
     "output_type": "stream",
     "text": [
      "Topic 2:\n",
      "['letelepedési', 'magyar', 'offshore', 'engedélyt', 'cég', 'csak', 'cégek', 'ezer', 'kötvényt', 'külföldi']\n",
      "  2015-06-09 12:47:00 Letelepedési kötvény: a „jó bevándorlók” pénzt hoznak az offshore-konyhára\n",
      "  2015-06-08 00:00:00 Ötvenmilliárdos üzlet a letelepedés\n",
      "  2015-10-13 00:00:00 Ki viszi tovább a letelepedési bizniszt?\n",
      "  2015-10-17 00:00:00 Kétszázötvenmillió forintért árulták volna az állampolgárságot Fidesz-közeli üzleti körök\n",
      "  2015-12-01 11:23:00 Offshore milliárdosok csapolják a magyarok pénztárcáját\n",
      "  2016-01-27 15:25:00 Exim újratöltve\n",
      "  2016-02-03 14:34:00 Ömlik ki a pénz a külkerbankból, mintha nem lenne holnap\n",
      "  2016-05-13 15:35:30 Saját cégét is hitelezi bankjával Matolcsy unokatestvére\n",
      "  2016-07-23 00:00:00 Már azonnal jöhet a pénzes külföldi\n",
      "  2016-07-26 23:00:00 Habony hitelezőjének testvére felügyeli az Eximbank segélyhiteleit\n",
      "  2016-08-02 13:43:00 Nem stimmelnek a letelepedési kötvényprogram számai\n",
      "  2016-07-25 13:32:00 Titkolózik és pénzt kér a hivatal\n",
      "  2016-07-27 05:02:00 Bűnözők is vásároltak a kötvényekből\n",
      "  2016-08-23 11:37:00 Száraz István és egy csapat különös orosz a magyar letelepedési program szellemképén\n",
      "  2016-08-25 00:00:00 Nyolcvanmilliárd a Föld körül, avagy ennyit szakít Habony köre a nagy bizniszen\n",
      "  2016-09-14 20:08:30 Útlevél is jár a jómódú letelepedőnek?\n",
      "  2016-10-01 13:07:00 Letelepedési kötvény fél áron\n",
      "  2016-10-05 18:04:00 Sokkal többe került a migránsellenes harc, mint a kormány állította\n",
      "  2016-10-12 12:05:53 Új szereplővel bővül a kaotikus kötvénybiznisz\n",
      "  2016-10-21 18:21:46 Kötvények: újabb offshore cég tűnt fel\n",
      "  2016-10-13 10:18:00 Pecina, a rejtélyes osztrák milliárdos, aki Orbánnal üzletelhetett a Népszabadsággról\n",
      "  2016-10-26 20:59:55 Elbukhat a holdudvarnak milliárdokat hozó kötvényüzlet\n",
      "  2016-10-27 18:50:42 Nehezen szabadul a mutyitól a Fidesz\n",
      "  2016-11-04 16:28:36 Irakban is árulja a magyar állam a „letelepedést”\n",
      "  2016-11-17 11:24:50 Életre szóló letelepedési engedély\n",
      "  2016-11-29 21:01:38 Csütörtökön kiderülhet a kötvényüzlet sorsa\n",
      "  2017-01-06 18:38:53 Offshore offshore hátán a kötvénymutyiban\n",
      "  2017-01-19 10:39:00 Házipénztárként használják az Eximbankot kormányközeli üzletemberek\n",
      "  2017-02-11 09:26:34 Fiktív papírok a letelepedési üzletben?\n",
      "  2017-03-18 14:34:15 Rogán Antalnál is vannak okosabbak\n",
      "  2017-03-24 21:55:07 Letelepedési kötvények: az LMP feljelentést tesz\n",
      "  2017-04-18 11:34:41 Letelepedési kötvények: a végén még az MKB is beszállt az üzletbe\n",
      "  2017-06-03 21:44:02 Százötven milliárd forintot nyertek a fideszes mutyin\n",
      "  2017-05-19 19:59:00 Mindenki nyert a magyar letelepedési kötvényen, csak az ország bukott milliárdokat\n",
      "  2017-06-17 19:32:02 Komoly bukás a kötvényprogram\n",
      "  2017-06-28 16:12:00 Kiderült, mennyit kapott a letelepedési kötvényekért az állam\n",
      "  2017-07-18 20:02:35 Orbán húszezer bevándorlót engedett be\n",
      "  2017-07-22 18:34:19 Lett letelepedési kötvény „váltja” a magyart\n",
      "  2017-11-08 17:01:44 Óriási pénzt értek Orbán Viktor migránsai\n",
      "  2017-12-09 20:39:02 Kötvényüzlet: Pesttől Párizsig érnek a húszezresek\n",
      "  2017-12-09 11:07:00 Habonyék ügyvédje és az offshore-cégek 20 ezer bevándorlót hoztak Magyarországra és 165 milliárdot kerestek rajtuk\n",
      "  2017-12-10 14:33:00 „Csak Rogán köre kaszált a kötvényüzleten”\n",
      "  2018-03-28 08:30:00 Nemzetközi bűnügy gyanúsítottja és a szíriai diktátor pénzembere is magyar papírokat kapott a kötvényprogramban\n",
      "  2018-07-07 15:47:00 Kétszázmilliót vihettek el a betörők a letelepedési kötvényes cég széfjéből\n",
      "  2018-09-10 06:00:00 Putyin gépezetének tagjai kaptak magyar papírokat Orbánék kötvényprogramjában\n",
      "  2018-10-08 09:29:00 Rogán elhitette a kötvénymesét és Magyarország elbukott 30 milliárd forintot\n",
      "  2018-10-08 14:53:00 A letelepedési kötvényprogrammal a kormány mindent megvalósított, ami ellen a Fidesz küzdött\n",
      "  2018-12-21 13:30:00 Fiktív kötvényekkel is üzleteltek a letelepedési programban\n",
      "  2018-10-08 00:00:00 TI: 30 milliárdot bukott az ország Rogán letelepedési kötvénybizniszén\n",
      "  2021-10-03 22:36:00 Rogán Antal és Mészáros Lőrinc bizalmasainak üzleteire is fény derül a legújabb offshore-kiszivárgásban\n",
      "  2021-11-06 07:00:00 Itt a lista, hogy kik nem jutottak pénzhez a jegybank kötvényprogramjából, Tiborczék is köztük vannak\n",
      "  2022-03-21 19:30:00 A háború véget vethet a magyar letelepedési kötvényes mutyihoz hasonló programoknak az EU-ban\n",
      "  2022-03-28 18:06:00 Az Európai Bizottság vizsgálja az „aranyvízumokat”, ez a már a magyar letelepedési kötvényeket is érintheti\n",
      "  2023-06-27 15:16:00 Veszteséges cégháló szövődött a végrehajtói kar körül\n",
      "  2023-08-16 11:10:00 Milliárdokat vasalnának be az EMIH-en, de a kisegyház ügyesen lavírozik a végrehajtók világában\n",
      "  2023-11-20 11:41:00 Tiborcz és több egyetem jól járhat, az EU viszont nem fogja szeretni a kormány új befektetési ötletét\n",
      "  2023-11-26 08:15:00 A vendégmunkásokat elrejtené a kormány, a gazdag \"migránsok\" a NER-potentátok vagyonát hizlalnák\n",
      "  2024-03-21 13:00:00 Bizalmi vagyonkezelésbe került a Rogán Antal köreihez érkezett letelepedési kötvényes vagyon\n",
      "  2024-05-10 06:30:00 Főleg Kínának hízeleg és Tiborczék pénztárcáját hizlalhatja a kormány az „aranyvízummal”\n",
      "  2024-04-05 00:00:00 Letelepedési kötvény helyett ingatlanvásárlás: újabb aranyvízum-osztogatásra készül a kormány\n",
      "Topic 3:\n",
      "['orbán', 'magyar', 'fidesz', 'ha', 'csak', 'állami', 'több', 'sem', 'politikai', 'el']\n",
      "  2008-04-23 00:00:00 Az MSZP alaposan \"nekiment\" a Fidesznek - Zsíros megbízások?\n",
      "  2010-12-04 05:12:00 Álláshalmozó fideszesek\n",
      "  2010-12-20 12:56:00 Óriásit kaszál a Fidesz politikusa - itt az összeg\n",
      "  2011-07-11 19:04:00 Megmutatták erejüket a lobbik\n",
      "  2012-02-08 08:45:00 Magyar magán- és közügyek keveredtek össze az emír tárgyalójában\n",
      "  2012-02-02 11:02:00 Ellentmondó hírek keringenek Orbán bizalmasának emirátusi útjáról\n",
      "  2012-10-30 06:30:00 Századvég-sztori: milliárdos birodalmat épít Orbán háttérembere\n",
      "  2013-04-29 20:02:00 Pofonegyszerű ukázt kaptak a trafikokról a fideszesek\n",
      "  2014-04-01 15:13:00 Rogán Antal: Leülnénk a baloldallal, de nincs kivel\n",
      "  2014-08-29 15:56:00 Kövért és Lázárt gyengíti Habony Árpád erősödése\n",
      "  2014-08-29 16:36:00 Önkormányzati lapokban fényezik Rogánt, Papcsákot, Némethet\n",
      "  2014-12-10 12:08:00 Luxusban él, de sehonnan sem kap fizetést\n",
      "  2014-09-30 15:29:00 Lemondatnák Szijjártó Pétert \"mesés vagyona\" miatt\n",
      "  2015-02-18 16:58:00 Hogyan működött Orbán és Simicska médiabirodalma?\n",
      "  2015-03-17 00:00:00 Bojkottálja a Simicska-médiát a Fidesz\n",
      "  2015-07-01 00:00:00 Orbán is látni fogja az ellenplakátokat\n",
      "  2012-10-28 17:40:00 Fideszes belharc a nyerőgéptilalom hátterében\n",
      "  2015-11-10 00:00:00 Dagad Orbán Viktor olcsóbb állama\n",
      "  2015-11-23 16:16:00 Rogán szomszédja járt jól a plakátkampánnyal?\n",
      "  2016-06-04 23:28:00 Elindult a nagy magyar bankárháború\n",
      "  2016-06-08 13:26:00 Ilyen államilag koordinált leszámolást még nem láttunk\n",
      "  2016-06-14 14:57:00 Spéder Zoltánt felfújták és most kipukkasztják\n",
      "  2016-09-12 14:39:00 Fideszes háttéremberek az őszi szezonkezdésről\n",
      "  2016-10-01 15:20:11 A jó bevándorlók: arab, török és ázsiai üzletemberek az Orbán-család körül\n",
      "  2016-12-16 00:00:00 Rogán szomszédjának cége jár jól az új kormányzati sikerpropagandával is\n",
      "  2016-12-16 00:00:00 Irány 2018 - Nem lesz kampányszünet\n",
      "  2017-05-18 00:00:00 Ez nem újságírás, ez politikai nehézfegyverzet\n",
      "  2017-10-26 18:22:00 Kivetik a kibővített Simicska-adót\n",
      "  2018-01-01 19:34:00 Rablóhadjárat: pénzt parlagon Orbán kormányai nem hagynak\n",
      "  2018-05-18 00:00:00 Két éve írtunk a Vizoviczki-birodalom és a Rogán-féle önkormányzat üzleteiről, azóta sem történt semmi\n",
      "  2018-06-29 21:27:00 Helikopterezés, luxusjacht, vadászat: 10 botrány, amit a Fidesz nem engedne megírni\n",
      "  2018-07-23 08:12:00 Fideszes körökben bejáratott szakembereket kértek fel, hogy segítsék a turizmus fellendítését\n",
      "  2019-03-14 11:25:01 Egy éve még Orbán lopott, ma már Soros szervezkedik Simicska egykori plakátjain\n",
      "  2019-05-07 12:29:00 Milliárdos migránsok Orbán Viktor udvarában – így jöttek a Párisi Udvar új tulajdonosai\n",
      "  2020-11-20 13:00:00 Álcivilektől az időjárás-jelentésig – megszereztük, mire költött a Fidesz pártalapítványa az elmúlt öt évben\n",
      "  2021-07-08 11:00:00 Önkényes szövetkezések: a nagyurak maguk között osztják fel az országot\n",
      "  2021-09-13 07:00:00 Az ellenzék jelölteket gyűjt, a Fidesz pénzt és állampolgárságot oszt a választásokra\n",
      "  2021-10-21 00:00:00 Start Dobrev! – a Rogán-művek fokozódó jelenléte az ellenzéki nyilvánosságban\n",
      "  2021-10-25 16:00:00 A lépés, amelytől még kevésbé lesznek átláthatók az Orbán család bizniszei is\n",
      "  2021-11-30 15:00:00 Most épp a fideszes médiát fazonírozzák a választások előtti készülődésben\n",
      "  2022-01-27 11:00:00 Egyre többen láthatók a Schadl-ügy miniszterekig mutató \"szívességek\" láncolatában\n",
      "  2022-07-21 11:30:00 A kata- és rezsiváltozások nincsenek benne, sportra és propagandára több jut a jövő évi büdzséből\n",
      "  2023-01-31 00:00:00 Az illegális pártfinanszírozás rendszere – ahogy a résztvevők látják, 2. rész: „Micsoda szolgáltatás!”\n",
      "  2015-12-10 12:03:00 Orbán azt szeretné, hogy ne kelljen bevallania a családja vagyonát\n",
      "  2016-02-01 12:55:00 Lázárnak bejött 2015, Orbán és Áder pénzt gyűjtött\n",
      "  2023-05-17 09:37:00 Rogán Antal javaslatára államosíthatják a bukméker irodákat\n",
      "  2022-06-30 06:30:00 Az illiberális állam dicsérete és az orosz propaganda terjesztésére tartja álciviljeit a kormány\n",
      "  2023-06-19 00:00:00 Novák Katalin, Orbán Viktor és Szijjártó Péter akár családi nyaralásra is utazhat honvédségi repülőgéppel\n",
      "  2023-09-18 00:00:00 Ajándék jachtozás, helikopterezés, vendéglátás az Adrián: szabad ilyet egy politikusnak? \n",
      "  2023-10-17 15:18:00 Az Orbán-rendszer csúcsvállalatának titkai\n",
      "  2023-11-13 00:00:00 Orbánnak már a teljhatalom sem elég, minden létező fillérről tudni akar\n",
      "  2023-11-23 13:08:00 A legnagyobb közbeszerzési nyertesek között van egy igazi meglepetés, de Mészáros és Szíjj kaszálja a legtöbbet\n",
      "  2024-01-18 06:30:00 Budapest NER-port: Orbánnak személyesen fontos, a haveroknak nagy üzlet lehet a repülőtér megszerzése\n",
      "  2024-04-18 20:57:00 VSquare: Orbán Gáspár felel az új Nemzetbiztonsági Tanács külpolitikai és kényes diplomáciai ügyekkel foglalkozó részlegéért\n",
      "  2024-05-16 06:30:00 Orbán Viktor saját haszonszerzése érdekében árulja Magyarországot és Európát Kínának\n",
      "  2024-06-12 20:11:00 Orbán Balázs többet keresett tavaly, mint Orbán Viktor\n",
      "  2024-06-27 10:00:00 Orbán töménytelen közpénzt önt a Fidesz brüsszeli intézményeibe, de a céljától még elég messze van\n",
      "  2024-07-06 02:00:00 NEREDETI TŐKEFELHALMOZÁS - HOGYAN LETTEK MILLIÁRDOSOK FIDESZES KÉPVISELŐK ÉS A ROKONAIK?\n",
      "  2024-08-28 06:55:11 Azt gondoltam, hogy én bármit megtehetek, mert Orbán Viktor kedvel engem\n",
      "  2024-10-11 06:00:00 Mit ügyködik vízumügyben Orbán Áron, és mi köze ehhez a kormánynak?\n",
      "  2024-10-04 06:58:44 Vízumügyekben lobbizhatott Orbán Viktor öccse egy kiszivárgott hangfelvétel szerint, de falakba ütközött\n",
      "Topic 4:\n",
      "['schadl', 'völner', 'varga', 'magyar', 'magyar péter', 'péter', 'ügyészség', 'judit', 'varga judit', 'mondta']\n",
      "  2005-08-03 00:00:00 Külszíni megfejtés\n",
      "  2016-07-19 00:00:00 Az ügyészség állítja, nem hallottak Rogán megvesztegetéséről\n",
      "  2016-08-01 15:03:49 Vizoviczki születendő gyermeke meggyilkolásával fenyegette az ügyészséget\n",
      "  2016-08-30 18:19:18 Az ügyészség szerint gyanúsítottként igazat mondott, a jobbikos tévének viszont hazudott Vizó bizalmasa\n",
      "  2017-04-28 19:09:00 Pintér nem mondja meg, ki áll a Hunguard mögött\n",
      "  2022-01-17 08:39:00 A pécsi egyetem vizsgálatot indít a Völner-ügyben etikai és vizsgaszabályok megsértésének gyanúja miatt\n",
      "  2022-01-19 11:59:00 A Völner-ügy csóvája, avagy egyetem vagy birkaiskola\n",
      "  2022-01-17 12:38:00 Vizsgálatot indít a pécsi egyetem a Völner-ügyben kibukott egyetemi vizsgák miatt\n",
      "  2022-02-03 09:45:00 Gulyás a Völner-ügyről: Higgyék el, hogy nem tudtam a nyomozásról, Rogánnak nincs köze hozzá\n",
      "  2023-02-08 09:45:00 A Schadl-dosszié: Az ügy, amelyet Varga Judit simán túlélt\n",
      "  2023-03-22 00:00:00 Magyarországon a törvény sem véd meg a propaganda hazugságaitól\n",
      "  2023-06-03 07:00:00 “Én ekkor visszakérdeztem, hogy milyen Viktor. Az Orbán?\"\n",
      "  2024-03-18 10:02:00 Magyar Péter csütörtökön a Központi Nyomozó Ügyészségre megy Rogán miatt\n",
      "  2024-03-20 00:00:00 Magyar Péter kijött az ügyészségről, és arról beszélt, hogy Rogán Antalék meghamisították a Völner–Schadl-ügy nyomozati iratait\n",
      "  2024-03-20 17:55:00 Négy pontban reagált az ügyészség arra, amit Magyar Péter a szerdai kihallgatása után mondott\n",
      "  2024-03-18 14:19:00 Magyar Péter a Tóni-gate-ről: Mindent tudok és mindent tudok bizonyítani\n",
      "  2024-03-21 00:00:00 Bárándy a Magyar Péter-ügyről: Aki az ügyészségi közleményt kiadta, az másik meghallgatáson ült\n",
      "  2024-03-20 16:55:00 Egy későbbi időpontra újra beidézte az ügyészség Magyar Pétert, hogy bevihesse az ígért bizonyítékokat\n",
      "  2024-03-20 14:07:00 Magyar Péter szerint Rogánék manipulálhatták a Völner–Schadl-per nyomozati anyagát\n",
      "  2024-03-22 16:19:00 Schadl elfogása előtt Rogánék a Karmelitába rendelték Völner Pált\n",
      "  2024-03-23 14:50:00 Magyar Péter azt ígérte, kedden bemutatja a bizonyítéknak szánt felvételt\n",
      "  2024-03-20 00:00:00 Ügyészség: Képtelen állítás, hogy a Völner-Schadl-ügyben bárki megsemmisített volna az ügyészségen lévő bizonyítékot\n",
      "  2024-03-25 09:32:07 Mi utal arra, hogy belepiszkáltak a Völner–Schadl-ügy nyomozati irataiba?\n",
      "  2024-03-25 16:08:00 „Tál hívja Gyűjtőt” – így zajlott a Schadl letartóztatása előtti három nap, amikor Rogánék szólhattak Völnernek\n",
      "  2024-03-25 18:59:00 Magyar Péter szerint Varga Judit olyan maffiakormányról beszélt neki, amiből nem lehet kiszállni\n",
      "  2024-03-26 09:55:00 Mit tudunk Martonovics Bernadettről, aki szóba kerül a Magyar Péter által nyilvánosságra hozott felvételen?\n",
      "  2024-03-26 09:05:00 Magyar Péter ledobta a hangfelvételt, amin Varga Judit arról beszél, hogy Rogánék belenyúltak a Völner-Schadl-ügy nyomozati irataiba\n",
      "  2024-03-26 09:11:00 Varga Magyar Péter felvételén: ,„Javasolták az ügyészségnek, hogy mit kellene kihúzni” a Schadl-iratokból - most erőszakot emlegetve válaszolt\n",
      "  2024-03-26 09:03:00 Magyar Péter hangfelvétele: Varga Judit szerint Rogánék kihúzatták magukat a Schadl-Völner-iratokból\n",
      "  2024-03-26 10:57:00 Varga Judit a Schadl-nyomozásról: Szóltak a Völnernek, hogy hagyja abba, nem hagyta abba\n",
      "  2024-03-26 15:50:00 Ügyészség a keddi hangfelvételről: Fizikai és jogi képtelenség ügyészségi iratokat átírni\n",
      "  2024-03-28 10:12:00 Varga Juditot tanúként hallgatták ki szerdán az ügyészségen\n",
      "  2024-03-28 10:01:00 Tanúként hallgatták ki Varga Juditot az ügyészségen\n",
      "  2024-03-26 20:27:00 Magyar Péter hangfelvétele: Varga Judit szerint „javasolták az ügyészeknek, hogy mit kéne kihúzni”\n",
      "  2024-03-26 20:40:00 Reagált a főügyészség: ügyészségi iratok eltüntetése, átírása nem csak jogi, hanem fizikai képtelenség is\n",
      "  2024-03-23 20:45:00 Nem tagadja a kormány, hogy Völner járhatott a Karmelitában Schadl letartóztatása előtt\n",
      "  2024-03-26 11:55:00 Ki az a Martonovics Bernadett, aki szóba kerül Magyar Péter titkos hangfelvételén?\n",
      "  2024-03-28 10:13:00 Varga Juditot tanúként hallgatta ki az ügyészség a Magyar-féle felvétel után\n",
      "  2024-04-03 10:18:00 Mészáros Lőrinc őrző-védő cége ügyel a biztonságra az ügyészségen\n",
      "  2024-04-25 13:16:00 Tanúként hallgatták ki Gulyás Gergelyt az ügyészségen\n",
      "  2024-04-25 13:31:00 Maradt a Bankszövetségnél Schadl György volt bizalmasa, akinek nevét Magyar Péter hangfelvételén is említik\n",
      "  2024-06-20 00:00:00 \"Völner Pál idegesebb, távolságtartóbb\" - az ügyészek nem tudták kizárni, hogy valaki figyelmeztette a volt államtitkárt\n",
      "  2024-06-20 00:00:00 Ügyészség: Rogán és Schadl között nem volt feltárható kapcsolat\n",
      "  2024-06-21 00:00:00 \"Életszerűtlen\" indokkal szüntette meg az ügyészség a nyomozást Magyar Péter hangfelvételével kapcsolatban\n",
      "  2024-06-20 15:21:00 A volt NAV-nyomozó állít, a NAV tagad – nem került elő bizonyíték arról, hogy a kormány segíthette elsikálni Gattyán adóügyeit\n",
      "  2024-06-20 00:00:00 Ügyészség: Senki nem manipulálta a Völner-Schadl-ügy iratait, Varga Judit pletykákat osztott meg\n",
      "  2024-08-26 10:03:00 Magyar Péter felülvizsgálati indítványt nyújt be az ügyészségre a Völner-Schadl ügyben\n",
      "  2024-08-27 20:26:16 Magyar Péter benyújtotta felülvizsgálati indítványát az ügyészségre a Völner-Schadl-ügyben\n",
      "  2024-08-26 16:25:48 A Központi Nyomozó Főügyészség szerint Magyar Péter nem mond igazat\n",
      "  2024-09-05 06:29:00 Autómosóból lopták el a pendrive-ot, ami később az ellenzéki politikusokat célba vevő Anonymusnál landolt\n",
      "  2024-10-16 15:28:54 Akár a hazugságvizsgálatot is vállalná Orbán Áron egyik társa, hogy bizonyítsa: nem ő a szivárogtató\n",
      "  2024-11-13 15:24:00 Elutasította a törvényszék Magyar Péter felülvizsgálati kérelmét\n",
      "Topic 5:\n",
      "['vizoviczki', 'sem', 'el', 'magyar', 'több', 'csak', 'ha', 'fidesz', 'olaf', 'egyik']\n",
      "  2005-02-12 00:00:00 Tények és sugalmazások\n",
      "  2009-01-30 00:00:00 Zuschlag koalíciója\n",
      "  2012-02-19 20:35:00 DK: Korrupciógyanús ügyek Rogán Antal körül\n",
      "  2012-02-28 07:29:00 Belső elhárítás\n",
      "  2013-03-28 06:53:00 Rogán Antal öt tabudöntő ebédje\n",
      "  2014-10-20 00:00:00 Szanyi Tibor tudja, kiket tiltottak ki Amerikából, Lévai Anikó az egyik\n",
      "  2014-11-26 00:00:00 Korrupció\n",
      "  2014-12-01 00:00:00 Már belülről is bűzlik a fideszes dőzsölés\n",
      "  2015-01-06 13:17:00 Fidesz: Azért üzletelt Rogán önkormányzata a bérgyilkossággal vádolt Portik élettársával, mert Gyurcsány\n",
      "  2015-01-23 00:00:00 Rogán és Kocsis is visszafelé mutogat\n",
      "  2015-03-09 00:00:00 A jófiúk belvárosa? Stílushangolás és nyomozások az V. kerületben\n",
      "  2015-02-05 00:00:00 „A Fidesznek el kell tűnnie az ország éléről”\n",
      "  2015-01-28 11:45:00 DK: a korrupció melegágya a vagyonnyilatkozati szabály\n",
      "  2015-06-05 13:41:00 Ha nagy pénz van az asztalon, azt egy fideszes haver viheti\n",
      "  2015-07-14 00:00:00 Homályban maradhat, kik trükköznek az EU-pénzekkel\n",
      "  2016-02-03 00:00:00 Brüsszel visszakérné a Belvárosnak adott milliárdokat\n",
      "  2016-05-30 16:45:07 Takaréklángon pislákoló nyomozások\n",
      "  2016-06-07 11:29:00 Vizoviczki ligájában nem számítottak a pártok, az ő pénzéből mindenki akart\n",
      "  2016-07-04 11:46:23 Az ember, aki ott sem volt - Rogán Antal és az V. kerület alternatív valóságai\n",
      "  2016-07-25 11:31:00 Most mellényúlt a Fidesz, mert a Vizoviczki mindent tud\n",
      "  2016-07-26 06:29:00 Nem nyomoznak kötvényügyben\n",
      "  2016-08-03 14:33:48 Vizoviczki a Nemzeti Erőforrás Minisztériummal ünnepelte, hogy betiltották a dohányzást a szórakozóhelyeken\n",
      "  2016-08-19 09:49:00 Senkinek sem patyolat a múltja a fideszes betlinégyesből\n",
      "  2016-09-12 12:26:02 Tizenkét furcsaság, ami arra utal, hogy a Fidesznek kellemetlen a Vizoviczki-ügy\n",
      "  2016-10-22 21:07:33 Hadházy: Egy pályázóból “választják ki” a legalkalmasabbat\n",
      "  2016-11-14 11:36:49 Régi ismerősünk Kertész Balázs, a propagandaminiszter tegnap kiszerkesztett fantomja\n",
      "  2016-11-13 11:51:00 Gyurcsányék egy találkozó miatt börtönbe záratnák Rogán Antalt (frissítve!)\n",
      "  2017-03-17 10:00:18 Rendszerszintű korrupció a kötvényprogram\n",
      "  2017-05-23 08:40:51 Állítsuk meg a gazdagokat? – A választópolgár nem érzékeny a korrupció mértékére\n",
      "  2017-12-14 10:30:25 A letelepedésikötvény-program a magyarországi korrupció mércéjével mérve is durva bűnügy\n",
      "  2017-12-30 05:00:00 Így lopnak ők - Mutyikalendárium\n",
      "  2017-12-31 15:40:57 Kötvénybiznisz: Polt Péter úgy véli, hogy nincs itt semmi látnivaló\n",
      "  2018-11-16 10:20:00 Fidesz-közelben landoltak a 4-es metró korrupciós ügyének főszereplői\n",
      "  2021-12-09 06:30:00 Karácsonyéknak ástak vermet a Városháza-üggyel a kormány propagandistái, maguk estek bele\n",
      "  2022-01-25 10:45:00 A magyar korrupció előre megy, nem hátra: már Románia és Kína is tisztább nálunk\n",
      "  2019-06-16 11:30:00 Szálak a semmibe\n",
      "  2017-10-04 17:55:00 Most Lázár Jánostól kapott 6,5 milliárdnyi közpénzes megbízást Rogán Antal szomszédja\n",
      "  2015-03-04 13:57:00 Nyomozás Budapest Szívében\n",
      "  2016-08-25 19:06:00 Meddig tartható még Rogán Antal?\n",
      "  2023-06-30 00:00:00 Váratlanul találta el a titkosszolgálat Karácsonyt, a főpolgármester még nem is tudott kiegyenesedni\n",
      "  2023-10-11 11:10:00 Medián: Mészárost, Orbánt és Tiborczot tartják a legkorruptabbnak a magyarok\n",
      "  2023-11-27 09:10:00 Így pattintja le a legfőbb ügyész vagy a rendőrség az ellenzéki képviselőket, ha gyanús ügyről kérdeznek\n",
      "  2024-03-19 00:00:00 Magyar Péter azt mondja, Varga Judittól és Gulyás Gergelytől tudja, ki az a „Tóni”, „Ádám” és „Barbara”\n",
      "  2024-03-19 17:44:00 Magyar Péter össztűz alá vette Rogán Antalt, de az ütőkártyáit még nem fedte fel\n",
      "  2024-04-26 06:30:00 A budapesti térfigyelőkkel már élőben is követhet bárkit a rendőrség és a titkosszolgálat\n",
      "Topic 6:\n",
      "['habony', 'eu line', 'line', 'balatoni', 'cég', 'eu', 'magyar', 'borzován', 'jászai', 'zrt']\n",
      "  2007-05-10 00:00:00 Nagyot buknak a Szent István téren?\n",
      "  2014-02-10 16:48:00 Mire telik a fideszes ifjú titánoknak?\n",
      "  2014-07-07 16:56:00 Habony Árpád kigyulladt szaunája 50 millióba került az Együtt-PM szerint\n",
      "  2014-09-27 15:50:00 Önkormányzati sonka\n",
      "  2014-11-07 00:00:00 JUHÁSZ NYUGODTAN BESZÉLHET AZ V. KERÜLET KORRUPCIÓGYANÚS ÜGYEIRŐL\n",
      "  2014-12-07 12:58:00 Juhász: 50 milliót keresett Portik cége Rogán üzletén\n",
      "  2015-01-30 00:00:00 Belvárosi telex-ügy: hárít és csúsztat az önkormányzat\n",
      "  2015-05-06 18:48:00 Egy rejtélyes vállalkozó: Milliárdos állami munkákat kap a cége, ő mégis egy hotelben dolgozik\n",
      "  2015-09-24 12:32:28 Ki nevet a végén?\n",
      "  2016-04-08 11:49:00 A Simicska-háború után szállt rá a NAV Habony Árpádra\n",
      "  2016-07-06 12:08:00 Évi 300 milliárdos óriásmutyi? – új bizniszben a Habony–Rogán-érdekkör\n",
      "  2016-11-19 16:39:49 Titokzatos svájci cégeken keresztül is a Rogán-Kertész üzleti körhöz köthető Fürstner József fogorvos\n",
      "  2016-12-09 08:58:00 De miért éppen Zug?\n",
      "  2016-12-20 10:59:20 Tombor András felé vezetnek a Népszava-eladás szálai, borulhat az üzlet\n",
      "  2017-01-16 13:06:19 Matolcsyéknak ad tanácsot a Kertész Balázs irodája előtt tárgyaló grúz\n",
      "  2017-01-25 21:33:57 Leleplezés: Habony izraeli barátait találtuk a játékboltos nő mögött\n",
      "  2017-02-22 20:05:58 Hivatalos: Habony, Rogán és Tiborcz barátai taroltak az állami árveréseken\n",
      "  2017-06-19 12:16:34 Krskó Tibor a filmes bizniszbe tart\n",
      "  2017-12-07 13:18:00 Kína-biznisz: óriási dobásra készül a Habony–Rogán-érdekkör\n",
      "  2018-04-25 05:00:00 Csak nyerni tud Rogán helikoptereztetője\n",
      "  2014-10-09 14:55:00 Alig ismerik, mégis ő a Belváros királya\n",
      "  2018-12-17 15:02:00 Habony Árpád nagyon érti az üzletet, pár ezer forintból csinál tízmilliókat\n",
      "  2018-12-19 19:06:00 A csendes magyar: bemutatjuk Mészáros Lőrinc \"agyát\", a birodalom ügyintézőjét\n",
      "  2019-02-14 11:15:00 \"Ahol Rogán Antal megjelenik, nem árt óvatosnak lenni\" – a NER viheti a Balaton maradékát\n",
      "  2019-03-07 07:20:00 Rogánhoz kerülnek az állami hajóscégek\n",
      "  2019-08-23 10:25:00 Rogánék alá kerülhet a balatoni hajózás\n",
      "  2019-08-29 08:58:00 Állami tőkesúly a balatoni flottán\n",
      "  2019-10-07 19:58:00 Milliárdokért védi a MÁV-ot Pintér egykori üzleti köre\n",
      "  2020-12-12 08:30:00 Nem látni a Budapesti Erőmű új tulajdonosát a \"panamázó\" offshore cégek sűrűjében\n",
      "  2021-06-10 11:00:00 Milliárdos üzletet kötött a rendőrség egyik nagy beszállítójával Pintér Sándor felesége\n",
      "  2021-06-10 15:07:00 Habony Árpád 160 milliós órája kenterbe veri Rákay Philip 47 milliós luxusterepjáróját\n",
      "  2021-07-22 12:30:00 A lélegeztetőbiznisz egyik haszonélvezője ismét az állammal üzletelt\n",
      "  2022-01-07 12:00:00 Cégalapítási lázban ég Rogán Antal grúz barátja\n",
      "  2022-01-23 11:10:00 A Rogán Antalhoz közel álló milliárdos jordán üzleti kör most a Várban jelent meg\n",
      "  2022-02-04 10:30:00 Mi van a pénzeszsákban? Öt politikus üzletei a vagyonnyilatkozati szezonban\n",
      "  2022-08-19 06:30:00 A NER arisztokratái bemutatják, milyen a családbarát kormányzás\n",
      "  2022-05-31 17:29:00 Megalakul a Digitális Magyarország Ügynökség, működését Rogán Antal felügyeli\n",
      "  2022-09-29 10:30:00 Értékes budapesti ingatlan jár körbe a NER-elitben\n",
      "  2023-02-27 13:30:00 Hazai ingatlanos cég névadója lett Orbán egyik \"kedvenc\" filozófusa\n",
      "  2023-05-14 12:45:00 Elbírálás alatt a védjegyoltalmi kérelem a Puskás Múzeum névre és logójára\n",
      "  2024-11-11 12:14:00 Vonzódik a hegyekhez és a milliárdos tenderekhez – Ki az a Vertán György, akit Magyar Péter összekötött Vogel Evelinnel és Kubatov Gáborral?\n",
      "Topic 7:\n",
      "['miniszterelnöki', 'kormány', 'politikai', 'kabinetiroda', 'kormányzati', 'csak', 'kormányok', 'miniszterelnöki kabinetiroda', 'nemzeti', 'lehet']\n",
      "  2013-11-13 06:58:00 Tessék mondani, ő még itt a miniszter?\n",
      "  2015-09-22 12:36:00 Saját minisztériumot kap Rogán\n",
      "  2015-10-02 00:00:00 Máris megvan a Lázár-Rogán vita nagy vesztesének új posztja\n",
      "  2015-11-10 07:40:00 Rogán meghátrált, beszél a milliókról\n",
      "  2015-11-12 00:00:00 Rogán névtelen tanácsadóknak fizet milliókat\n",
      "  2015-11-18 00:00:00 A miniszteri biztosok országa\n",
      "  2015-11-20 00:00:00 Trafikosztó a Rogán-stábban\n",
      "  2015-11-23 10:53:09 A miniszterelnök focis cimborája és személyi edzője Rogán Antalnak ad tanácsokat\n",
      "  2016-03-17 10:02:00 A NOK a korrupciógyár újabb terméke az Együtt szerint\n",
      "  2016-10-13 12:44:00 Titkolják az utókampány költéseit\n",
      "  2016-11-14 14:06:00 Felszólította a Miniszterelnöki Kabinetirodát a NAIH, hogy tegyen eleget adatigénylésünknek\n",
      "  2016-12-08 00:00:00 Rogán haverja megmagyarázza, miért kell Rogánéknak Habonyéknál elkölteni a közpénzmilliárdokat\n",
      "  2017-01-19 11:50:00 Hatalmasra nőtt Rogán csapata\n",
      "  2017-10-18 14:48:04 Rogán elismerte: a multik fizették a tanácsadót\n",
      "  2017-12-04 16:00:00 Tovább titkolják, mennyit költött Rogán egy offshore cégnél propagandára\n",
      "  2019-06-07 15:45:00 Rogán Antal immár teljesen szabad kezet kapott a pénzköltésben\n",
      "  2020-09-06 14:32:39 Rogán Antal új feladatot kapott, milliárdos bevételek felett diszponálhat\n",
      "  2021-01-15 11:00:00 Központosított koncessziók: Rogán Antal másfél hónap után kiesett a pikszisből\n",
      "  2022-03-05 00:00:00 Rogán minisztériuma megsértette a választási törvényt, amikor COVID-hírlevélen kampányolt az ellenzék ellen\n",
      "  2022-09-08 15:00:00 Ezért kerülhetett Rogán Antalhoz egy újabb fontos védelmi-biztonsági pozíció\n",
      "  2022-09-13 13:31:00 Rogán minisztériumához kerül a közpénzek felhasználását ellenőrző állami hivatal, a Kehi\n",
      "  2022-09-16 11:40:00 A veszélyhelyzet miatt is fontos Orbánnak, hogy Rogánra bízta a védelmi igazgatást is\n",
      "  2022-09-13 21:16:00 Már a Kormányzati Ellenőrzési Hivatalt is Rogán irányítja\n",
      "  2022-11-03 00:00:00 Mostanáig kellett várni, hogy kiderüljön, kiket támogatott idén Rogán a pénzünkből\n",
      "  2022-11-03 10:55:00 Brutális összeget kap egy évre Habony Árpád exneje Rogán Antaléktól\n",
      "  2019-07-23 12:23:00 Rogánéknak tételes elszámolást kell adniuk a nemzeti konzultációkról\n",
      "  2022-09-25 18:53:00 Rogán 446 milliót, a legszegényebb államtitkár 4 milliót keresett tavaly\n",
      "Topic 8:\n",
      "['portik', 'portik tamás', 'tamás', 'hamis', 'főügyészség', 'juhász', 'tett', 'ügyészség', 'vád', 'nyomozó']\n",
      "  2014-12-20 00:00:00 Rogán a bíróságon is védené az V. kerület becsületét\n",
      "  2015-04-16 00:00:00 Rogán kontra Juhász - elkezdődött a per\n",
      "  2016-06-19 00:00:00 Feljelentés Portik „tízmilliós vallomása” miatt\n",
      "  2016-06-22 12:41:03 Rogán feljelenti Portikot\n",
      "  2016-06-22 00:00:00 Rogán elégtételt venne\n",
      "  2016-07-26 00:07:00 Nem nyomoz az ügyészség Rogán után\n",
      "  2016-07-29 11:25:00 Felejlentéskiegészítést rendelt el a KNYF Rogán Antal állítólagos kenőpénze miatt\n",
      "  2016-08-02 12:54:00 Portik vs. Rogán: tudni akarja valaki az igazságot?\n",
      "  2016-07-26 19:36:00 Nem nyomoznak Rogán után\n",
      "  2016-08-05 22:13:00 Ügyészség előtt a Portik ellen tett feljelentés\n",
      "  2016-08-23 12:05:00 Rogán Antal ellen nem, Portik Tamás ellen viszont hamis vád gyanúja miatt már nyomoz az ügyészség\n",
      "  2016-08-23 00:00:00 Hamis vád miatt nyomozást rendelt el az ügyészség Portik Tamás ellen\n",
      "  2016-08-24 00:00:00 Nyomozás indult Portik Tamás ellen\n",
      "  2016-08-23 00:00:00 Az ügyészség szerint Portik hamisan vádolta Rogánt\n",
      "  2016-08-23 00:00:00 Portik ellen indult nyomozás a Rogánról szóló vallomása miatt\n",
      "  2016-09-20 00:00:00 Vajnával védené meg magát Rogán Portiktól\n",
      "  2017-01-10 19:12:54 Rogán ügyvédje kitakarta Habony nagynénjét\n",
      "  2016-10-27 19:24:00 Tovább akadékoskodott a bíróságon Portik samesza\n",
      "  2016-07-06 20:59:00 Andy Vajna szerint is hazudott Portik a bíróságon\n",
      "  2016-06-19 21:25:00 Feljelentést tettek Portik vallomása alapján\n",
      "  2019-05-10 13:19:00 A Rogán Antal elleni hamis vád miatt ismét nyomoz az ügyészség Portik ellen\n",
      "  2016-08-23 18:34:00 Rogánt védik? Hamis vád miatt nyomoznak Portik ellen\n",
      "  2024-07-16 00:00:00 Koronatanú: Rogán Antalt és Orbán Viktort akarta meggyőzni ártatlanságáról Simonka György, aki a zöldhatáron át menekült volna Romániába\n",
      "Topic 9:\n",
      "['kertész', 'schmuck', 'sem', 'csak', 'ha', 'után', 'el', 'úgy', 'aki', 'balázs']\n",
      "  2014-03-28 11:49:00 „Rogán pasa” vagyonát vizsgáltatnák a NAV-val\n",
      "  2014-04-01 23:00:53 Rogán Antal adóhatósági vizsgálatot kér saját maga ellen\n",
      "  2014-04-02 18:01:22 Rogán vagyonbevallásai: Juhász Péter feljelentést tett\n",
      "  2014-04-02 20:37:00 Rogán: Kétségbeesetten próbálkoznak a baloldalon\n",
      "  2014-04-02 10:44:00 Okirat-hamisítás miatt feljelentették Rogánt\n",
      "  2014-04-05 17:59:00 A Rogán-Simon ügyekben nem lehet kettős mérce - Juhász -\n",
      "  2015-02-16 00:00:00 \"Elképesztő szabálytalanságokról\" beszélt Juhász\n",
      "  2016-06-20 00:00:00 Juhász Péter: Teljesen nyilvánvaló, hogy Rogán hazudott\n",
      "  2016-08-17 11:24:00 Hét korrupciógyanús ügy, amikbe Rogán Antalnak régen bele kellett volna buknia\n",
      "  2016-11-09 00:00:00 Négy perc alatt legalább négyszer torzította Rogán Antal az igazságot a felismerhetetlenségig\n",
      "  2016-11-11 10:03:00 Bemutatjuk Rogán Antal sötét oldalát, a fantommá vált Kertész Balázst\n",
      "  2016-11-14 21:44:06 Elveszítette parasztgyerekjellegét – Rogán Antal színeváltozásai\n",
      "  2016-11-19 00:00:00 Svájcban van luxusvillája a Rogán-közeli fantomügyvédnek\n",
      "  2016-11-28 17:20:00 „Rogán megint hazudott. Mármint folyamatosan hazudik, de megint lebukott”\n",
      "  2016-11-05 17:41:00 Rogán feljelenti a hivatalos tájékoztatás szerint is hazugságokat terjesztő Juhász Pétert\n",
      "  2021-02-19 09:02:40 Kanyargós út vezetett Rogán Barbara földvásárlási tervének elkaszálásáig\n",
      "  2021-02-12 16:30:00 Sajátos érveléssel cáfolja Rogán a felesége és családja földvásárlását\n",
      "  2022-01-27 00:00:00 Hallgatnak Rogánék a kabinetfőnökről, akinek apja a miniszter körüli ingatlanok gazdája\n",
      "  2014-03-01 09:26:00 Futott még - Schmuck Andor portréja\n",
      "  2013-11-19 14:15:00 Újra megszólalt Rogán a botrányos NAV-ügyben\n",
      "  2016-08-24 19:34:00 Meddig tartható még Rogán Antal? (III.)\n",
      "  2023-04-11 00:00:00 Hosszú évek hallgatása után Rogán Antal parlamenti megszólalásában azt magyarázta, hogy nem ismeri Schadl Györgyöt\n",
      "  2023-04-11 11:59:00 Rogán több mint öt év után megszólalt a parlamentben: Nem ismertem Schadl nevű urat\n",
      "  2024-06-14 00:00:00 Rogán Antal: Ha belenyúltam volna a Schadl-ügy aktáiba, akkor maga szerint lenne benne ilyen beszélgetés?\n",
      "Topic 10:\n",
      "['koncessziós', 'gyorsforgalmi', 'mészáros', 'állam', 'magyar', 'autópálya', '35', 'kormány', 'koncesszió', 'utak']\n",
      "  2016-09-01 00:00:00 Rogán és Habony Sesztákkal küzd a sokmilliárdos üzletért\n",
      "  2021-06-15 00:00:00 Ontja a nyereséget az autópályák üzemeltetése, Rogánék mégis szabadulnának tőle\n",
      "  2021-06-22 10:25:00 Az úthálózat legjobb részét passzolja le a kormány 35 évre, a tönkrement utak maradnak az állam nyakán\n",
      "  2021-06-27 11:00:00 Úgy tűnik, valamelyik kormánykedvenc oligarcha viheti az autópálya-koncessziót\n",
      "  2021-06-18 14:38:00 Rogán Antal az autópálya-koncesszióról: Tanultunk az elkövetett hibákból\n",
      "  2021-06-16 16:00:00 A kormány rendszerváltásra készül a magyar utakon\n",
      "  2021-07-14 00:00:00 Autópályakoncesszió: három jelentkező a gigaüzletre, Mészáros Lőrinc érdekeltségei is köztük lehetnek\n",
      "  2022-05-09 11:22:00 Megnézheted, melyik autópályákon keresnek majd akár ezer milliárdot is Mészárosék\n",
      "  2022-05-06 10:01:00 Kiderült, ki kezelheti 2057-ig a magyar autópályákat, és nem lepődtünk meg\n",
      "  2022-08-25 12:33:00 Több mint 1200 kilométernyi autópályáról mond le szeptembertől a magyar állam\n",
      "  2022-10-06 16:27:00 A nagy autópálya-koncesszió: Lázár János és Rogán Antal egymásra lesz utalva\n",
      "  2023-01-31 12:24:00 Felháborító az ezer milliárdos extraprofit a multiknál, Mészároséknál örvendetes\n",
      "  2023-05-10 06:30:00 Fű alatt, kétes indokkal és céllal módosította az autópályákra 35 évig vonatkozó szabályokat a kormány\n",
      "  2023-05-30 12:17:00 Mészáros Lőrincék 200 milliárd forintért üzemeltetik az autópályákat jövőre\n",
      "  2023-08-07 08:15:00 Szinte családi vállalkozásban üzemeltetik az autópályákat a következő 35 évben\n",
      "Topic 11:\n",
      "['fly', 'fly coop', 'coop', 'kft', 'légi', 'cég', 'jet', 'coop kft', 'budaörsi', 'valton']\n",
      "  2016-06-29 19:59:00 Hongkongi helikopteres túra köti össze Habony Árpádot a magyar letelepedési kötvények egyik offshore forgalmazójával\n",
      "  2016-10-03 00:00:00 Elképesztő luxusban utazott el a Rogán család a médiaceleb lagzijába\n",
      "  2016-10-05 00:00:00 Rogán nem urizál, hanem spórol: nem fizetett a limuzinért sem\n",
      "  2016-10-07 10:43:36 Helikoptertúra: semmi nem stimmel a Rogán-sztoriban\n",
      "  2016-10-07 21:32:18 Nem csak Rogánék szeretnek repkedni. Íme Orbánék légi járműve!\n",
      "  2017-05-29 15:21:00 A profit ötödét helikopterezte el Rogán feleségének cége\n",
      "  2017-07-03 23:56:50 Sarka Kata titokzatos pasija a kulcs Habonyék helikopterezéseihez\n",
      "  2017-12-21 17:11:00 Szerveket fog szállítani a Rogánt fuvarozó helikoptercég, és a Mol-vezér is segíti\n",
      "  2018-06-03 23:33:00 Jól jövedelmez Rogán Antal barátsága: remek évet zárt a helikoptereztető cég\n",
      "  2018-09-26 21:58:00 Lenyeli a Rogán és Tombor köreihez sorolt cég Demján reptéri vállalatát\n",
      "  2019-02-04 11:55:00 Végleg a Rogánt reptetők cégénél maradhat a budaörsi reptér\n",
      "  2019-06-06 15:48:11 A Matolcsy család házibankja finanszírozta, Rogán Antal is használta Bessenyei magánrepülőgépét\n",
      "  2020-12-07 00:00:00 Akkor is kap 330 milliót a Rogánt és Habonyt helikoptereztető cég, ha fel sem szállnak\n",
      "  2017-08-31 12:26:00 A Rogánt és Habonyt reptetők cége veszi át a budaörsi repülőteret\n",
      "  2023-12-11 09:53:00 Ismét a Rogán Antalt reptető cég nyerte a Vérellátó közbeszerzését\n",
      "  2024-09-27 13:18:28 A Rogán Antalt helikoptereztető cégtől bérel repülőket a honvédség\n",
      "  2024-10-10 12:00:00 Baltadobálás és életmentő vietnámiak – íme a cég, amelyet Orbán fegyverkereskedő öccse vezet\n",
      "  2024-10-21 07:28:57 Honvédségi beszállító lett a Rogán Antalt helikoptereztető cég\n",
      "Topic 12:\n",
      "['egyesült', 'egyesült államok', 'államok', 'amerikai', 'szankciós', 'listára', 'pressman', 'nagykövet', 'korrupció', 'trump']\n",
      "  2025-01-07 19:05:00 David Pressman: Rogán a korrupció kitervelője, megvalósítója, haszonélvezője\n",
      "  2025-01-07 17:17:00 A magyar kormány reakciójában Pressman személyes, pitiáner bosszújáról beszél\n",
      "  2025-01-07 16:30:00 Rogán Antal korrupció miatt felkerült az Egyesült Államok szankciós listájára\n",
      "  2025-01-07 17:17:00 Pressman: „A magyar vezető kormánytisztviselők túl sokáig használták arra a hatalmi pozíciójukat, hogy saját magukat és családjukat gazdagítsák”\n",
      "  2025-01-08 06:30:00 Washingtonban is pontosan tudják, ki az a Tóni\n",
      "  2025-01-08 19:28:04 Pressman: Azért cselekedtük, mert aggodalommal figyeljük, hogy a korrupció hogyan ássa alá Magyarország szuverenitását azáltal, hogy elvonja a közforrásokat azoktól, akiknek a leginkább szükségük lenn\n",
      "  2025-01-08 16:07:00 A DK szerint Rogán Antalnak eltitkolt vagyona lehet Amerikában\n",
      "  2025-01-08 13:31:46 Ezermilliárdos korrupciógyanús ügyek miatt szankcionálhatták Rogán Antalt\n",
      "  2025-01-08 21:00:00 Bűnözők között\n",
      "  2025-01-07 16:18:00 Rogán Antalt szankciós listára tette az Egyesült Államok\n",
      "  2025-01-07 17:09:50 Reagált a kormány arra, hogy Rogán Antalt korrupció miatt szankciós listára tette az Egyesült Államok\n",
      "  2025-01-07 17:19:24 Pressman: Rogán áll a korrupciós rendszer középpontjában\n",
      "  2025-01-08 09:50:17 Ezekért az ügyekért kerülhetett fel Rogán Antal az amerikaiak szankciós listájára\n",
      "  2025-01-08 17:07:19 Rogán Antal az orosz hadiipart is segítő magyarországi céggel és az ide menekülő Gruevszkivel került egy listára\n",
      "  2025-01-09 07:18:40 Ha Rogán le akar kerülni az amerikai szankciós listáról, neki kell bizonyítania, hogy nem korrupt\n",
      "Topic 13:\n",
      "['mobilsign', 'profitrade', 'találmány', 'milliós', 'uniós', 'kapott', 'kft', 'profitrade 90', 'cég', '90']\n",
      "  2016-08-10 11:41:00 Rogán Antal feltalálót veszi védelmébe a kormányzati tájékoztatás\n",
      "  2016-08-11 14:40:00 Hatalmas siker Rogán találmánya\n",
      "  2016-08-17 10:47:00 Már öt éve feltalálták Rogánék találmányát\n",
      "  2018-02-01 14:53:00 Rogán találmánya máris fialt, Lázár szőlősgazda lett\n",
      "  2018-03-20 05:03:00 Rogán találmánya körül nyomoz az adóhivatal\n",
      "  2018-03-19 17:35:00 Rogán Antal feltalálótársai után nyomoz az OLAF és már a NAV i\n",
      "  2018-03-28 11:02:00 Rogán feltalálótársainak cége Svájcba csorgatta tovább a pénzt\n",
      "  2021-02-27 08:46:00 Feljelenti Rogán apósát az OLAF-nál a Momentum\n",
      "  2022-02-01 21:05:00 A milliárd forintos ötlet: reális, hogy egy találmányra kap Rogán évek óta százmilliókat?\n",
      "  2016-08-11 17:11:00 Egymilliárdos támogatást kapott a ProfiTrade 90 Kft. (frissítve)\n",
      "  2023-05-31 19:45:00 2,7 milliárd forint támogatást kapott a Megafon 2022-ben\n",
      "  2023-06-19 19:50:00 10 milliárd forintnyi uniós pénzből népszerűsíti a programozást az állam, de nem látni, hogyan\n",
      "  2016-08-11 12:01:00 256 800 000 forint EU-s pályázati pénz jutott Rogán találmányára\n",
      "  2024-05-31 12:40:00 Több mint 600 milliós árbevétele lett a Rogán találmányából pénzt csináló cégnek\n",
      "Topic 14:\n",
      "['juhász', 'jegyző', 'kerületi', 'önkormányzat', 'kerület', 'péter', 'rónaszéki', 'önkormányzati', 'juhász péter', 'képviselő']\n",
      "  2014-04-02 14:48:00 A mentelmi bizottság is vizsgálhatja Rogán vagyonnyilatkozatát\n",
      "  2014-04-16 18:35:00 Rogán vagyonosodási vizsgálatát követli az Együtt-PM\n",
      "  2014-05-07 12:09:55 Juhász szerint csak őt vizsgálja a rendőrség a Rogán-ügyben\n",
      "  2014-06-25 15:30:54 Rogán félreállítja a saját emberét\n",
      "  2014-12-04 00:00:00 A NYILVÁNOSSÁGOT KIZÁRVA TÁRGYALJÁK A BELVÁROSI INGATLANÜGYEKET\n",
      "  2014-12-08 00:00:00 AZ MSZP-SEK SZEMÉT SEM CSÍPTE A BELVÁROSI INGATLANÜGY\n",
      "  2014-12-29 14:05:29 Bűnszervezetben elkövetett csalásért jelentette fel Juhász Rogánékat\n",
      "  2015-01-14 00:00:00 Polgármesterei elől is jól titkolhatja ügyeit a belvárosi exjegyző\n",
      "  2015-12-06 00:00:00 Felelősségre vonnák Szijjártót az egymilliós zakó miatt\n",
      "  2016-03-16 10:20:00 Most kiderülhetnek a letelepedési kötvény-biznisz részletei\n",
      "  2022-02-10 00:00:00 Schadl György vásárlásait vizsgálják\n",
      "  2022-02-10 00:00:00 Megalakult a Schadl-ingatlanokat vizsgáló bizottság, Rogán Antalt is meghallgatnák\n",
      "  2015-01-15 00:00:00 Lemondott a tisztségéről Juhász Péter\n",
      "Topic 15:\n",
      "['ner', 'zrt', 'állami', 'mbvk', 'milliárdos', 'végrehajtói', 'kar', 'kft', 'máv', 'referencia']\n",
      "  2018-05-07 15:38:00 Ők működtetik a NER üzleti hátországát: bemutatjuk az oligarcha utánpótlás-válogatottat\n",
      "  2018-07-02 20:20:00 Napi 555 ezer forintért bérel munkaruhákat a MÁV a kormány fő takarítócégétől\n",
      "  2019-07-29 12:08:43 Két éve csúcson volt, most teljessé vált a NER-csillag bukása\n",
      "  2019-11-29 11:19:00 NER-cég lett a befutó a Közbeszerzési és Ellátási Főigazgatóság 26 milliárdos tenderén\n",
      "  2020-02-05 14:22:25 Egy dokumentumból kiderül, hogy nem csak az államnak dolgoznak a NER-cégek: más NER-cégeknek is\n",
      "  2020-04-07 12:33:00 NER-közeli cég nyerte a MÁV fertőtlenítésre kiírt kétmilliárdos tenderét\n",
      "  2021-01-09 16:15:00 A NER-rel háborúzik Erzsébetváros\n",
      "  2021-02-15 00:00:00 A NER kedvenc IT-cége is befutott egy 14 milliárdos közbeszerzésre\n",
      "  2021-05-28 10:14:00 Egy ábrán a NER üzleti működése\n",
      "  2023-11-27 15:25:00 Momentum: Egy 400 milliárdos NER-közeli megbízás miatt kell kirúgni kórházi dolgozókat, az államtitkár nem cáfolt\n",
      "  2024-01-29 06:30:00 Rogán-közeli és más NER-es cégekhez szórt ki százmilliókat a végrehajtói kar Schadl idejében\n",
      "  2024-02-02 10:12:00 A NER-es sikercég bukása 55 milliárdos tündöklés után, de újabb nagy állami üzlet kilátásban\n",
      "Topic 16:\n",
      "['szerencsejáték', 'milliót', 'kft', 'kapott', 'tavaly', 'milliós', 'cég', 'szerencsejáték zrt', 'jutott', 'bessenyei']\n",
      "  2018-12-18 07:54:00 Megdobta pár millióval a Rogánt és Habonyt reptetők cégét a Szerencsejáték\n",
      "  2020-09-17 00:00:00 A CÖF 100 milliót, a Rogán Cecília-féle fitneszrendezvény 70 milliót kapott a Szerencsejáték Zrt.-től\n",
      "  2021-06-07 00:00:00 Milliárdokat keresett Sarka Kata férje a Femcaféval\n",
      "  2021-10-05 00:00:00 Jól megy Sarka Kata és Rogán-Gaál Cecília közös cége\n",
      "  2021-11-03 16:16:00 Húszmilliós szponzorpénzt kapott az állami Szerencsejáték-cégtől a Rogánt és Habonyt reptető család vállalkozása\n",
      "  2022-06-20 17:30:00 Pataky Attilára, egy vitorlásra és a Békemenetre mentek el a Szerencsejáték Zrt. százmilliói\n",
      "  2023-06-08 14:05:00 Felébredt téli álmából a Szerencsejáték-cég, rögtön kiszórt 639 milliót a szokásos körnek\n",
      "  2023-11-22 05:35:00 Óraműpontossággal érkezett a Szerencsejáték idei 40 milliója Sarka Kata férjének cégéhez\n",
      "  2023-10-12 05:11:00 Menetrend szerint érkeznek a Szerencsejáték-milliók Patakyhoz, Tiborcz közelébe és Szijjártó testvéréhez\n",
      "  2023-07-13 06:00:00 Szerencsejáték-pénzeső a Rogánt és Kövért is reptető családi vállalkozásnak és Szijjártó testvére cégének\n",
      "  2024-05-24 16:09:00 Közzé kell tennie a Szerencsejáték Zrt.-nek, hogy mi alapján tömi ki tízmilliókkal a kormányhoz közeli személyeket, cégeket\n",
      "  2024-05-30 15:03:00 Szijjártó testvérének és a Rogánt reptető családi cégnek is jutott a Szerencsejáték-cég milliárdos szponzorpénzeiből\n",
      "Topic 17:\n",
      "['önkormányzat', 'juhász', 'kerületi', 'belváros', '000', 'belvárosi', 'fővárosi főügyészség', 'juhász péter', 'nyomozás', 'főügyészség']\n",
      "  2012-02-17 12:58:00 Büntetőjogi következményekkel fenyeget Belváros-Lipótváros\n",
      "  2015-01-15 00:00:00 Belváros: nincs átfogó nyomozás az ingatlaneladások miatt\n",
      "  2015-01-28 00:00:00 Belvárosi ingatlanügyek: most megváltozott a helyzet\n",
      "  2015-02-22 20:41:00 A rendőrség megszüntette a nyomozást a belvárosi ingatlanügyekben\n",
      "  2015-03-11 12:10:00 Nehogy maga kerüljön börtönbe Rogán helyett!\n",
      "  2015-04-14 00:00:00 Belvárosi mutyi: nem alaphangon tolta le az ügyész a zsarukat, itt a teljes határozat!\n",
      "  2015-05-07 11:07:00 Újabb ingatlanügy a Belvárosban?\n",
      "  2015-05-12 00:00:00 Itt a belváros szuperfegyvere az ingatlanbotrányok ellen\n",
      "  2015-10-30 00:00:00 Ingatlanbotrány - Továbbra sincs döntés\n",
      "  2016-08-19 21:34:00 Nem talált semmilyen ingatlanmutyit a belvárosban a rendőrség\n",
      "  2016-08-25 17:55:03 Olcsón akarsz eladni ingatlanokat hirtelen jött vevőknek? Kerülj hatalomra, és alkoss rendeleteket!\n"
     ]
    }
   ],
   "source": [
    "for topic in sorted(id_by_topic.keys())[2:]:\n",
    "    print(f\"Topic {topic}:\")\n",
    "    print([name for name, score in topic_model.get_topic(topic)])\n",
    "    for id in id_by_topic[topic]:\n",
    "        print(f\"  {dsf['train'][id]['pub_time']} {dsf['train'][id]['title']}\")"
   ]
  }
 ],
 "metadata": {
  "kernelspec": {
   "display_name": ".venv",
   "language": "python",
   "name": "python3"
  },
  "language_info": {
   "codemirror_mode": {
    "name": "ipython",
    "version": 3
   },
   "file_extension": ".py",
   "mimetype": "text/x-python",
   "name": "python",
   "nbconvert_exporter": "python",
   "pygments_lexer": "ipython3",
   "version": "3.9.18"
  }
 },
 "nbformat": 4,
 "nbformat_minor": 2
}
